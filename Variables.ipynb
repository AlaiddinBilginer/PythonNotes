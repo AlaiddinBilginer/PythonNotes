{
 "cells": [
  {
   "cell_type": "code",
   "execution_count": 1,
   "id": "0ecbbe21",
   "metadata": {},
   "outputs": [
    {
     "data": {
      "text/plain": [
       "10"
      ]
     },
     "execution_count": 1,
     "metadata": {},
     "output_type": "execute_result"
    }
   ],
   "source": [
    "5 + 5"
   ]
  },
  {
   "cell_type": "code",
   "execution_count": 4,
   "id": "0c0cb8c0",
   "metadata": {},
   "outputs": [
    {
     "data": {
      "text/plain": [
       "38.46153846153846"
      ]
     },
     "execution_count": 4,
     "metadata": {},
     "output_type": "execute_result"
    }
   ],
   "source": [
    "500 / 13"
   ]
  },
  {
   "cell_type": "markdown",
   "id": "f4f250af",
   "metadata": {},
   "source": [
    "# Variables"
   ]
  },
  {
   "cell_type": "code",
   "execution_count": 5,
   "id": "00102f15",
   "metadata": {},
   "outputs": [],
   "source": [
    "name = \"Alaiddin\""
   ]
  },
  {
   "cell_type": "code",
   "execution_count": 6,
   "id": "4652d19f",
   "metadata": {},
   "outputs": [
    {
     "data": {
      "text/plain": [
       "'Alaiddin'"
      ]
     },
     "execution_count": 6,
     "metadata": {},
     "output_type": "execute_result"
    }
   ],
   "source": [
    "name"
   ]
  },
  {
   "cell_type": "code",
   "execution_count": 7,
   "id": "6681fcdc",
   "metadata": {},
   "outputs": [],
   "source": [
    "age = 21"
   ]
  },
  {
   "cell_type": "code",
   "execution_count": 8,
   "id": "1a66bfd8",
   "metadata": {},
   "outputs": [
    {
     "data": {
      "text/plain": [
       "21"
      ]
     },
     "execution_count": 8,
     "metadata": {},
     "output_type": "execute_result"
    }
   ],
   "source": [
    "age"
   ]
  },
  {
   "cell_type": "code",
   "execution_count": 9,
   "id": "b0717f41",
   "metadata": {},
   "outputs": [
    {
     "data": {
      "text/plain": [
       "31"
      ]
     },
     "execution_count": 9,
     "metadata": {},
     "output_type": "execute_result"
    }
   ],
   "source": [
    "age + 10"
   ]
  },
  {
   "cell_type": "code",
   "execution_count": 32,
   "id": "6fc82ffd",
   "metadata": {},
   "outputs": [],
   "source": [
    "# Data Type"
   ]
  },
  {
   "cell_type": "code",
   "execution_count": null,
   "id": "abe3b1d2",
   "metadata": {},
   "outputs": [],
   "source": [
    "# Numbers"
   ]
  },
  {
   "cell_type": "code",
   "execution_count": 1,
   "id": "f6f93415",
   "metadata": {},
   "outputs": [
    {
     "data": {
      "text/plain": [
       "int"
      ]
     },
     "execution_count": 1,
     "metadata": {},
     "output_type": "execute_result"
    }
   ],
   "source": [
    "type(10)"
   ]
  },
  {
   "cell_type": "code",
   "execution_count": 2,
   "id": "7137c36a",
   "metadata": {},
   "outputs": [
    {
     "data": {
      "text/plain": [
       "int"
      ]
     },
     "execution_count": 2,
     "metadata": {},
     "output_type": "execute_result"
    }
   ],
   "source": [
    "type(10*5)"
   ]
  },
  {
   "cell_type": "code",
   "execution_count": 3,
   "id": "52abdeb3",
   "metadata": {},
   "outputs": [],
   "source": [
    "x = -50"
   ]
  },
  {
   "cell_type": "code",
   "execution_count": 4,
   "id": "e88e5af5",
   "metadata": {},
   "outputs": [
    {
     "data": {
      "text/plain": [
       "int"
      ]
     },
     "execution_count": 4,
     "metadata": {},
     "output_type": "execute_result"
    }
   ],
   "source": [
    "type(x)"
   ]
  },
  {
   "cell_type": "code",
   "execution_count": 5,
   "id": "0f25a43c",
   "metadata": {},
   "outputs": [],
   "source": [
    "# int => integer"
   ]
  },
  {
   "cell_type": "code",
   "execution_count": 6,
   "id": "f1ed92a5",
   "metadata": {},
   "outputs": [],
   "source": [
    "pi = 3.14"
   ]
  },
  {
   "cell_type": "code",
   "execution_count": 7,
   "id": "a70fb420",
   "metadata": {},
   "outputs": [
    {
     "data": {
      "text/plain": [
       "float"
      ]
     },
     "execution_count": 7,
     "metadata": {},
     "output_type": "execute_result"
    }
   ],
   "source": [
    "type(pi)"
   ]
  },
  {
   "cell_type": "code",
   "execution_count": 8,
   "id": "e6721d42",
   "metadata": {},
   "outputs": [
    {
     "data": {
      "text/plain": [
       "float"
      ]
     },
     "execution_count": 8,
     "metadata": {},
     "output_type": "execute_result"
    }
   ],
   "source": [
    "type(10/2)"
   ]
  },
  {
   "cell_type": "code",
   "execution_count": 9,
   "id": "af9f2618",
   "metadata": {},
   "outputs": [],
   "source": [
    "# float => floating point"
   ]
  },
  {
   "cell_type": "code",
   "execution_count": 10,
   "id": "658ab64f",
   "metadata": {},
   "outputs": [],
   "source": [
    "myFloat = 1.5251251551"
   ]
  },
  {
   "cell_type": "code",
   "execution_count": 11,
   "id": "cdf4c092",
   "metadata": {},
   "outputs": [
    {
     "data": {
      "text/plain": [
       "float"
      ]
     },
     "execution_count": 11,
     "metadata": {},
     "output_type": "execute_result"
    }
   ],
   "source": [
    "type(myFloat)"
   ]
  },
  {
   "cell_type": "code",
   "execution_count": 12,
   "id": "d05fa77d",
   "metadata": {},
   "outputs": [],
   "source": [
    "# Numaraların farklı veri tiplerinin olma sebebi hafızanın iyi yönetilmesinden kaynaklanmaktadır.\n",
    "# Tamsayıyı hafızada tutabilmek, ondalıklı sayıyı hafızada tutabilmekten daha basittir."
   ]
  },
  {
   "cell_type": "code",
   "execution_count": 13,
   "id": "e91a8fdc",
   "metadata": {},
   "outputs": [],
   "source": [
    "# camelCase => myFloat (Değişken isimlendirmelerini daha okunabilir yapmalıyız)\n",
    "# snake_case\n",
    "# PascalCase"
   ]
  },
  {
   "cell_type": "code",
   "execution_count": 14,
   "id": "9dff6ffc",
   "metadata": {},
   "outputs": [],
   "source": [
    "myFloat = 40 / 4"
   ]
  },
  {
   "cell_type": "code",
   "execution_count": 15,
   "id": "76ae099c",
   "metadata": {},
   "outputs": [
    {
     "data": {
      "text/plain": [
       "10.0"
      ]
     },
     "execution_count": 15,
     "metadata": {},
     "output_type": "execute_result"
    }
   ],
   "source": [
    "myFloat"
   ]
  },
  {
   "cell_type": "code",
   "execution_count": 16,
   "id": "12d222fb",
   "metadata": {},
   "outputs": [
    {
     "data": {
      "text/plain": [
       "float"
      ]
     },
     "execution_count": 16,
     "metadata": {},
     "output_type": "execute_result"
    }
   ],
   "source": [
    "type(myFloat) "
   ]
  },
  {
   "cell_type": "code",
   "execution_count": 19,
   "id": "0636b918",
   "metadata": {},
   "outputs": [],
   "source": [
    "# Programlama dillerinin verdiği bazı kararlar vardır. Yukarıdaki işlemimizin sonucunun float tipinde bir değer çıkma sebebi\n",
    "# bir int tipindeki değeri yine bir int tipindeki değere bölersek sonucunun float bir değer çıkma olasılığının daha yüksek olmasındandır."
   ]
  },
  {
   "cell_type": "code",
   "execution_count": 22,
   "id": "0d3084d1",
   "metadata": {},
   "outputs": [
    {
     "data": {
      "text/plain": [
       "float"
      ]
     },
     "execution_count": 22,
     "metadata": {},
     "output_type": "execute_result"
    }
   ],
   "source": [
    "type(4-3.0)"
   ]
  },
  {
   "cell_type": "code",
   "execution_count": 25,
   "id": "3de67fae",
   "metadata": {},
   "outputs": [
    {
     "data": {
      "text/plain": [
       "float"
      ]
     },
     "execution_count": 25,
     "metadata": {},
     "output_type": "execute_result"
    }
   ],
   "source": [
    "type(2.5 * 2 + 10)"
   ]
  },
  {
   "cell_type": "code",
   "execution_count": 26,
   "id": "f6b94dfa",
   "metadata": {},
   "outputs": [],
   "source": [
    "# Python'da işlem önceliği otomatik olarak yapılır."
   ]
  },
  {
   "cell_type": "code",
   "execution_count": 27,
   "id": "8b66d36d",
   "metadata": {},
   "outputs": [
    {
     "data": {
      "text/plain": [
       "-240"
      ]
     },
     "execution_count": 27,
     "metadata": {},
     "output_type": "execute_result"
    }
   ],
   "source": [
    "10 - 50 * 5"
   ]
  },
  {
   "cell_type": "code",
   "execution_count": 28,
   "id": "7f72c608",
   "metadata": {},
   "outputs": [
    {
     "data": {
      "text/plain": [
       "8"
      ]
     },
     "execution_count": 28,
     "metadata": {},
     "output_type": "execute_result"
    }
   ],
   "source": [
    "2 * 2 * 2"
   ]
  },
  {
   "cell_type": "code",
   "execution_count": 29,
   "id": "31f8a901",
   "metadata": {},
   "outputs": [
    {
     "data": {
      "text/plain": [
       "8"
      ]
     },
     "execution_count": 29,
     "metadata": {},
     "output_type": "execute_result"
    }
   ],
   "source": [
    "2 ** 3"
   ]
  },
  {
   "cell_type": "code",
   "execution_count": 30,
   "id": "5a73c5ec",
   "metadata": {},
   "outputs": [],
   "source": [
    "# % => kalan bulma operatörü (remainder)"
   ]
  },
  {
   "cell_type": "code",
   "execution_count": 31,
   "id": "0ba93e9c",
   "metadata": {},
   "outputs": [
    {
     "data": {
      "text/plain": [
       "2"
      ]
     },
     "execution_count": 31,
     "metadata": {},
     "output_type": "execute_result"
    }
   ],
   "source": [
    "10 % 4"
   ]
  },
  {
   "cell_type": "code",
   "execution_count": 33,
   "id": "083faa71",
   "metadata": {},
   "outputs": [],
   "source": [
    "# String"
   ]
  },
  {
   "cell_type": "code",
   "execution_count": 34,
   "id": "599be96f",
   "metadata": {},
   "outputs": [
    {
     "data": {
      "text/plain": [
       "'Hello World!'"
      ]
     },
     "execution_count": 34,
     "metadata": {},
     "output_type": "execute_result"
    }
   ],
   "source": [
    "\"Hello World!\""
   ]
  },
  {
   "cell_type": "code",
   "execution_count": 35,
   "id": "9a2d1aeb",
   "metadata": {},
   "outputs": [
    {
     "name": "stdout",
     "output_type": "stream",
     "text": [
      "Hello Python\n"
     ]
    }
   ],
   "source": [
    "print(\"Hello Python\")"
   ]
  },
  {
   "cell_type": "code",
   "execution_count": 36,
   "id": "f42ed33a",
   "metadata": {},
   "outputs": [],
   "source": [
    "name = \"Alaiddin\""
   ]
  },
  {
   "cell_type": "code",
   "execution_count": 38,
   "id": "7a09d113",
   "metadata": {},
   "outputs": [
    {
     "data": {
      "text/plain": [
       "str"
      ]
     },
     "execution_count": 38,
     "metadata": {},
     "output_type": "execute_result"
    }
   ],
   "source": [
    "type(name)"
   ]
  },
  {
   "cell_type": "code",
   "execution_count": 40,
   "id": "35dea41f",
   "metadata": {},
   "outputs": [
    {
     "data": {
      "text/plain": [
       "'Alaiddin Bilginer'"
      ]
     },
     "execution_count": 40,
     "metadata": {},
     "output_type": "execute_result"
    }
   ],
   "source": [
    "'Alaiddin Bilginer' # String ifadeleri tek tırnak içinde de tanımlayabiliyoruz. Fakat bazen çift tırnak ile tanımlamak oldukça avantajlıdır."
   ]
  },
  {
   "cell_type": "code",
   "execution_count": 42,
   "id": "56a148c8",
   "metadata": {},
   "outputs": [
    {
     "data": {
      "text/plain": [
       "\"Türkiye'nin başkenti Ankara'dır.\""
      ]
     },
     "execution_count": 42,
     "metadata": {},
     "output_type": "execute_result"
    }
   ],
   "source": [
    "\"Türkiye'nin başkenti Ankara'dır.\""
   ]
  },
  {
   "cell_type": "code",
   "execution_count": 43,
   "id": "f59c9584",
   "metadata": {},
   "outputs": [],
   "source": [
    "fullName = \"alaiddin bilginer\""
   ]
  },
  {
   "cell_type": "code",
   "execution_count": 44,
   "id": "5353e2a0",
   "metadata": {},
   "outputs": [
    {
     "data": {
      "text/plain": [
       "'Alaiddin bilginer'"
      ]
     },
     "execution_count": 44,
     "metadata": {},
     "output_type": "execute_result"
    }
   ],
   "source": [
    "fullName.capitalize()"
   ]
  },
  {
   "cell_type": "code",
   "execution_count": 45,
   "id": "23844e57",
   "metadata": {},
   "outputs": [
    {
     "data": {
      "text/plain": [
       "<function str.capitalize()>"
      ]
     },
     "execution_count": 45,
     "metadata": {},
     "output_type": "execute_result"
    }
   ],
   "source": [
    "fullName.capitalize"
   ]
  },
  {
   "cell_type": "code",
   "execution_count": 46,
   "id": "9899f7f9",
   "metadata": {},
   "outputs": [
    {
     "name": "stdout",
     "output_type": "stream",
     "text": [
      "Help on built-in function count:\n",
      "\n",
      "count(...) method of builtins.str instance\n",
      "    S.count(sub[, start[, end]]) -> int\n",
      "    \n",
      "    Return the number of non-overlapping occurrences of substring sub in\n",
      "    string S[start:end].  Optional arguments start and end are\n",
      "    interpreted as in slice notation.\n",
      "\n"
     ]
    }
   ],
   "source": [
    "help(fullName.count)"
   ]
  },
  {
   "cell_type": "code",
   "execution_count": 47,
   "id": "56779ad0",
   "metadata": {},
   "outputs": [
    {
     "data": {
      "text/plain": [
       "4"
      ]
     },
     "execution_count": 47,
     "metadata": {},
     "output_type": "execute_result"
    }
   ],
   "source": [
    "fullName.count(\"i\")"
   ]
  },
  {
   "cell_type": "code",
   "execution_count": 48,
   "id": "9ce0b104",
   "metadata": {},
   "outputs": [
    {
     "data": {
      "text/plain": [
       "'ALAIDDIN BILGINER'"
      ]
     },
     "execution_count": 48,
     "metadata": {},
     "output_type": "execute_result"
    }
   ],
   "source": [
    "fullName.upper()"
   ]
  },
  {
   "cell_type": "code",
   "execution_count": 50,
   "id": "17169763",
   "metadata": {},
   "outputs": [
    {
     "data": {
      "text/plain": [
       "17"
      ]
     },
     "execution_count": 50,
     "metadata": {},
     "output_type": "execute_result"
    }
   ],
   "source": [
    "len(fullName) # Boşlukları da 1 karakter olarak algılar."
   ]
  },
  {
   "cell_type": "code",
   "execution_count": 51,
   "id": "594c1e1d",
   "metadata": {},
   "outputs": [
    {
     "name": "stdout",
     "output_type": "stream",
     "text": [
      "Alaiddin \n",
      "Bilginer\n"
     ]
    }
   ],
   "source": [
    "print(\"Alaiddin \\nBilginer\") # \\n => new line"
   ]
  },
  {
   "cell_type": "code",
   "execution_count": 52,
   "id": "f25065d0",
   "metadata": {},
   "outputs": [],
   "source": [
    "# escape characters"
   ]
  },
  {
   "cell_type": "code",
   "execution_count": 53,
   "id": "e1cae58e",
   "metadata": {},
   "outputs": [],
   "source": [
    "# \\t => tab"
   ]
  },
  {
   "cell_type": "code",
   "execution_count": 54,
   "id": "99767ade",
   "metadata": {},
   "outputs": [
    {
     "name": "stdout",
     "output_type": "stream",
     "text": [
      "Alaiddin \t Bilginer\n"
     ]
    }
   ],
   "source": [
    "print(\"Alaiddin \\t Bilginer\")"
   ]
  },
  {
   "cell_type": "code",
   "execution_count": null,
   "id": "2723ce4b",
   "metadata": {},
   "outputs": [],
   "source": []
  }
 ],
 "metadata": {
  "kernelspec": {
   "display_name": "Python 3 (ipykernel)",
   "language": "python",
   "name": "python3"
  },
  "language_info": {
   "codemirror_mode": {
    "name": "ipython",
    "version": 3
   },
   "file_extension": ".py",
   "mimetype": "text/x-python",
   "name": "python",
   "nbconvert_exporter": "python",
   "pygments_lexer": "ipython3",
   "version": "3.11.5"
  }
 },
 "nbformat": 4,
 "nbformat_minor": 5
}
