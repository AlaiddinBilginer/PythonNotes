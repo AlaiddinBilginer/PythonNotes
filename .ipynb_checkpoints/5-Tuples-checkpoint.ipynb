{
 "cells": [
  {
   "cell_type": "code",
   "execution_count": 1,
   "id": "31cab609",
   "metadata": {},
   "outputs": [],
   "source": [
    "# List ile tuple oldukça benzer koleksiyonlardır."
   ]
  },
  {
   "cell_type": "code",
   "execution_count": 2,
   "id": "1cced419",
   "metadata": {},
   "outputs": [],
   "source": [
    "myList = [10, \"a\", \"b\", 3.14]"
   ]
  },
  {
   "cell_type": "code",
   "execution_count": 4,
   "id": "97574477",
   "metadata": {},
   "outputs": [
    {
     "data": {
      "text/plain": [
       "'b'"
      ]
     },
     "execution_count": 4,
     "metadata": {},
     "output_type": "execute_result"
    }
   ],
   "source": [
    "myList[2]"
   ]
  },
  {
   "cell_type": "code",
   "execution_count": 5,
   "id": "be372d91",
   "metadata": {},
   "outputs": [],
   "source": [
    "myList[2] = \"c\""
   ]
  },
  {
   "cell_type": "code",
   "execution_count": 6,
   "id": "19d3f183",
   "metadata": {},
   "outputs": [
    {
     "data": {
      "text/plain": [
       "[10, 'a', 'c', 3.14]"
      ]
     },
     "execution_count": 6,
     "metadata": {},
     "output_type": "execute_result"
    }
   ],
   "source": [
    "myList"
   ]
  },
  {
   "cell_type": "code",
   "execution_count": 7,
   "id": "4d004ede",
   "metadata": {},
   "outputs": [],
   "source": [
    "# tuple => immutability"
   ]
  },
  {
   "cell_type": "code",
   "execution_count": 8,
   "id": "704796fd",
   "metadata": {},
   "outputs": [],
   "source": [
    "myTuple = (10, \"a\", \"b\", 3.14)"
   ]
  },
  {
   "cell_type": "code",
   "execution_count": 9,
   "id": "76fff890",
   "metadata": {},
   "outputs": [
    {
     "data": {
      "text/plain": [
       "tuple"
      ]
     },
     "execution_count": 9,
     "metadata": {},
     "output_type": "execute_result"
    }
   ],
   "source": [
    "type(myTuple)"
   ]
  },
  {
   "cell_type": "code",
   "execution_count": 10,
   "id": "5693d442",
   "metadata": {},
   "outputs": [
    {
     "data": {
      "text/plain": [
       "'b'"
      ]
     },
     "execution_count": 10,
     "metadata": {},
     "output_type": "execute_result"
    }
   ],
   "source": [
    "myTuple[2]"
   ]
  },
  {
   "cell_type": "code",
   "execution_count": 12,
   "id": "ee871583",
   "metadata": {},
   "outputs": [],
   "source": [
    "# myTuple[2] = \"c\" Hata alırız. 'tuple' object does not support item assignment"
   ]
  },
  {
   "cell_type": "code",
   "execution_count": 13,
   "id": "1ea301bc",
   "metadata": {},
   "outputs": [
    {
     "data": {
      "text/plain": [
       "1"
      ]
     },
     "execution_count": 13,
     "metadata": {},
     "output_type": "execute_result"
    }
   ],
   "source": [
    "myTuple.index(\"a\")"
   ]
  },
  {
   "cell_type": "code",
   "execution_count": 14,
   "id": "20e53298",
   "metadata": {},
   "outputs": [
    {
     "data": {
      "text/plain": [
       "1"
      ]
     },
     "execution_count": 14,
     "metadata": {},
     "output_type": "execute_result"
    }
   ],
   "source": [
    "myTuple.count(\"a\")"
   ]
  },
  {
   "cell_type": "code",
   "execution_count": 15,
   "id": "15a512bb",
   "metadata": {},
   "outputs": [],
   "source": [
    "# Python'da kütüphaneler, tuple koleksiyonunu çok kullanır."
   ]
  },
  {
   "cell_type": "code",
   "execution_count": 16,
   "id": "e6ddd1a8",
   "metadata": {},
   "outputs": [],
   "source": [
    "resultTuple = (10,100,20)"
   ]
  },
  {
   "cell_type": "code",
   "execution_count": 17,
   "id": "ae2e2c8a",
   "metadata": {},
   "outputs": [
    {
     "data": {
      "text/plain": [
       "(10, 100, 20)"
      ]
     },
     "execution_count": 17,
     "metadata": {},
     "output_type": "execute_result"
    }
   ],
   "source": [
    "resultTuple"
   ]
  },
  {
   "cell_type": "code",
   "execution_count": 18,
   "id": "b095ba6a",
   "metadata": {},
   "outputs": [],
   "source": [
    "resultList = list(resultTuple)"
   ]
  },
  {
   "cell_type": "code",
   "execution_count": 19,
   "id": "5846067c",
   "metadata": {},
   "outputs": [],
   "source": [
    "resultList[1] = 200"
   ]
  },
  {
   "cell_type": "code",
   "execution_count": 20,
   "id": "c520de90",
   "metadata": {},
   "outputs": [
    {
     "data": {
      "text/plain": [
       "[10, 200, 20]"
      ]
     },
     "execution_count": 20,
     "metadata": {},
     "output_type": "execute_result"
    }
   ],
   "source": [
    "resultList"
   ]
  },
  {
   "cell_type": "code",
   "execution_count": 21,
   "id": "7772a4fc",
   "metadata": {},
   "outputs": [],
   "source": [
    "resultList.append(50)"
   ]
  },
  {
   "cell_type": "code",
   "execution_count": 22,
   "id": "60460e4d",
   "metadata": {},
   "outputs": [],
   "source": [
    "resultTuple = tuple(resultList)"
   ]
  },
  {
   "cell_type": "code",
   "execution_count": 23,
   "id": "9450368e",
   "metadata": {},
   "outputs": [
    {
     "data": {
      "text/plain": [
       "(10, 200, 20, 50)"
      ]
     },
     "execution_count": 23,
     "metadata": {},
     "output_type": "execute_result"
    }
   ],
   "source": [
    "resultTuple"
   ]
  },
  {
   "cell_type": "code",
   "execution_count": null,
   "id": "d2d99295",
   "metadata": {},
   "outputs": [],
   "source": []
  }
 ],
 "metadata": {
  "kernelspec": {
   "display_name": "Python 3 (ipykernel)",
   "language": "python",
   "name": "python3"
  },
  "language_info": {
   "codemirror_mode": {
    "name": "ipython",
    "version": 3
   },
   "file_extension": ".py",
   "mimetype": "text/x-python",
   "name": "python",
   "nbconvert_exporter": "python",
   "pygments_lexer": "ipython3",
   "version": "3.11.5"
  }
 },
 "nbformat": 4,
 "nbformat_minor": 5
}
