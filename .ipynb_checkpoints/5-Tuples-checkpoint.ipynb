{
 "cells": [
  {
   "cell_type": "code",
   "execution_count": 1,
   "id": "6c3c0421",
   "metadata": {},
   "outputs": [],
   "source": [
    "# List ile tuple oldukça benzer koleksiyonlardır."
   ]
  },
  {
   "cell_type": "code",
   "execution_count": 2,
   "id": "20f1e5d7",
   "metadata": {},
   "outputs": [],
   "source": [
    "myList = [10, \"a\", \"b\", 3.14]"
   ]
  },
  {
   "cell_type": "code",
   "execution_count": 4,
   "id": "0aea91f8",
   "metadata": {},
   "outputs": [
    {
     "data": {
      "text/plain": [
       "'b'"
      ]
     },
     "execution_count": 4,
     "metadata": {},
     "output_type": "execute_result"
    }
   ],
   "source": [
    "myList[2]"
   ]
  },
  {
   "cell_type": "code",
   "execution_count": 5,
   "id": "3a6956f3",
   "metadata": {},
   "outputs": [],
   "source": [
    "myList[2] = \"c\""
   ]
  },
  {
   "cell_type": "code",
   "execution_count": 6,
   "id": "94cbb7ae",
   "metadata": {},
   "outputs": [
    {
     "data": {
      "text/plain": [
       "[10, 'a', 'c', 3.14]"
      ]
     },
     "execution_count": 6,
     "metadata": {},
     "output_type": "execute_result"
    }
   ],
   "source": [
    "myList"
   ]
  },
  {
   "cell_type": "code",
   "execution_count": 7,
   "id": "d2359b7d",
   "metadata": {},
   "outputs": [],
   "source": [
    "# tuple => immutability"
   ]
  },
  {
   "cell_type": "code",
   "execution_count": 8,
   "id": "5f2d2434",
   "metadata": {},
   "outputs": [],
   "source": [
    "myTuple = (10, \"a\", \"b\", 3.14)"
   ]
  },
  {
   "cell_type": "code",
   "execution_count": 9,
   "id": "e6e70a9a",
   "metadata": {},
   "outputs": [
    {
     "data": {
      "text/plain": [
       "tuple"
      ]
     },
     "execution_count": 9,
     "metadata": {},
     "output_type": "execute_result"
    }
   ],
   "source": [
    "type(myTuple)"
   ]
  },
  {
   "cell_type": "code",
   "execution_count": 10,
   "id": "4ee4f6e3",
   "metadata": {},
   "outputs": [
    {
     "data": {
      "text/plain": [
       "'b'"
      ]
     },
     "execution_count": 10,
     "metadata": {},
     "output_type": "execute_result"
    }
   ],
   "source": [
    "myTuple[2]"
   ]
  },
  {
   "cell_type": "code",
   "execution_count": 12,
   "id": "c8fd3c9c",
   "metadata": {},
   "outputs": [],
   "source": [
    "# myTuple[2] = \"c\" Hata alırız. 'tuple' object does not support item assignment"
   ]
  },
  {
   "cell_type": "code",
   "execution_count": 13,
   "id": "d04b9f60",
   "metadata": {},
   "outputs": [
    {
     "data": {
      "text/plain": [
       "1"
      ]
     },
     "execution_count": 13,
     "metadata": {},
     "output_type": "execute_result"
    }
   ],
   "source": [
    "myTuple.index(\"a\")"
   ]
  },
  {
   "cell_type": "code",
   "execution_count": 14,
   "id": "6c6e69a9",
   "metadata": {},
   "outputs": [
    {
     "data": {
      "text/plain": [
       "1"
      ]
     },
     "execution_count": 14,
     "metadata": {},
     "output_type": "execute_result"
    }
   ],
   "source": [
    "myTuple.count(\"a\")"
   ]
  },
  {
   "cell_type": "code",
   "execution_count": 15,
   "id": "63afb0fc",
   "metadata": {},
   "outputs": [],
   "source": [
    "# Python'da kütüphaneler, tuple koleksiyonunu çok kullanır."
   ]
  },
  {
   "cell_type": "code",
   "execution_count": 16,
   "id": "c7646ae3",
   "metadata": {},
   "outputs": [],
   "source": [
    "resultTuple = (10,100,20)"
   ]
  },
  {
   "cell_type": "code",
   "execution_count": 17,
   "id": "b2aa3178",
   "metadata": {},
   "outputs": [
    {
     "data": {
      "text/plain": [
       "(10, 100, 20)"
      ]
     },
     "execution_count": 17,
     "metadata": {},
     "output_type": "execute_result"
    }
   ],
   "source": [
    "resultTuple"
   ]
  },
  {
   "cell_type": "code",
   "execution_count": 18,
   "id": "ea538dbe",
   "metadata": {},
   "outputs": [],
   "source": [
    "resultList = list(resultTuple)"
   ]
  },
  {
   "cell_type": "code",
   "execution_count": 19,
   "id": "ceb6c3cd",
   "metadata": {},
   "outputs": [],
   "source": [
    "resultList[1] = 200"
   ]
  },
  {
   "cell_type": "code",
   "execution_count": 20,
   "id": "cae9dc7d",
   "metadata": {},
   "outputs": [
    {
     "data": {
      "text/plain": [
       "[10, 200, 20]"
      ]
     },
     "execution_count": 20,
     "metadata": {},
     "output_type": "execute_result"
    }
   ],
   "source": [
    "resultList"
   ]
  },
  {
   "cell_type": "code",
   "execution_count": 21,
   "id": "1d152924",
   "metadata": {},
   "outputs": [],
   "source": [
    "resultList.append(50)"
   ]
  },
  {
   "cell_type": "code",
   "execution_count": 22,
   "id": "6e68134d",
   "metadata": {},
   "outputs": [],
   "source": [
    "resultTuple = tuple(resultList)"
   ]
  },
  {
   "cell_type": "code",
   "execution_count": 23,
   "id": "3afa0f1c",
   "metadata": {},
   "outputs": [
    {
     "data": {
      "text/plain": [
       "(10, 200, 20, 50)"
      ]
     },
     "execution_count": 23,
     "metadata": {},
     "output_type": "execute_result"
    }
   ],
   "source": [
    "resultTuple"
   ]
  },
  {
   "cell_type": "code",
   "execution_count": null,
   "id": "3a12b932",
   "metadata": {},
   "outputs": [],
   "source": []
  }
 ],
 "metadata": {
  "kernelspec": {
   "display_name": "Python 3 (ipykernel)",
   "language": "python",
   "name": "python3"
  },
  "language_info": {
   "codemirror_mode": {
    "name": "ipython",
    "version": 3
   },
   "file_extension": ".py",
   "mimetype": "text/x-python",
   "name": "python",
   "nbconvert_exporter": "python",
   "pygments_lexer": "ipython3",
   "version": "3.11.5"
  }
 },
 "nbformat": 4,
 "nbformat_minor": 5
}
