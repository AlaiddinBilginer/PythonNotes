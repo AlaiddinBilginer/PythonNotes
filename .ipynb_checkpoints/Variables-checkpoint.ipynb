{
 "cells": [
  {
   "cell_type": "code",
   "execution_count": 1,
   "id": "0ecbbe21",
   "metadata": {},
   "outputs": [
    {
     "data": {
      "text/plain": [
       "10"
      ]
     },
     "execution_count": 1,
     "metadata": {},
     "output_type": "execute_result"
    }
   ],
   "source": [
    "5 + 5"
   ]
  },
  {
   "cell_type": "code",
   "execution_count": 4,
   "id": "0c0cb8c0",
   "metadata": {},
   "outputs": [
    {
     "data": {
      "text/plain": [
       "38.46153846153846"
      ]
     },
     "execution_count": 4,
     "metadata": {},
     "output_type": "execute_result"
    }
   ],
   "source": [
    "500 / 13"
   ]
  },
  {
   "cell_type": "markdown",
   "id": "f4f250af",
   "metadata": {},
   "source": [
    "# Variables"
   ]
  },
  {
   "cell_type": "code",
   "execution_count": 5,
   "id": "00102f15",
   "metadata": {},
   "outputs": [],
   "source": [
    "name = \"Alaiddin\""
   ]
  },
  {
   "cell_type": "code",
   "execution_count": 6,
   "id": "4652d19f",
   "metadata": {},
   "outputs": [
    {
     "data": {
      "text/plain": [
       "'Alaiddin'"
      ]
     },
     "execution_count": 6,
     "metadata": {},
     "output_type": "execute_result"
    }
   ],
   "source": [
    "name"
   ]
  },
  {
   "cell_type": "code",
   "execution_count": 7,
   "id": "6681fcdc",
   "metadata": {},
   "outputs": [],
   "source": [
    "age = 21"
   ]
  },
  {
   "cell_type": "code",
   "execution_count": 8,
   "id": "1a66bfd8",
   "metadata": {},
   "outputs": [
    {
     "data": {
      "text/plain": [
       "21"
      ]
     },
     "execution_count": 8,
     "metadata": {},
     "output_type": "execute_result"
    }
   ],
   "source": [
    "age"
   ]
  },
  {
   "cell_type": "code",
   "execution_count": 9,
   "id": "b0717f41",
   "metadata": {},
   "outputs": [
    {
     "data": {
      "text/plain": [
       "31"
      ]
     },
     "execution_count": 9,
     "metadata": {},
     "output_type": "execute_result"
    }
   ],
   "source": [
    "age + 10"
   ]
  },
  {
   "cell_type": "code",
   "execution_count": 32,
   "id": "6fc82ffd",
   "metadata": {},
   "outputs": [],
   "source": [
    "# Data Type"
   ]
  },
  {
   "cell_type": "code",
   "execution_count": null,
   "id": "34970e83",
   "metadata": {},
   "outputs": [],
   "source": [
    "# Numbers"
   ]
  },
  {
   "cell_type": "code",
   "execution_count": 1,
   "id": "f6f93415",
   "metadata": {},
   "outputs": [
    {
     "data": {
      "text/plain": [
       "int"
      ]
     },
     "execution_count": 1,
     "metadata": {},
     "output_type": "execute_result"
    }
   ],
   "source": [
    "type(10)"
   ]
  },
  {
   "cell_type": "code",
   "execution_count": 2,
   "id": "927ca84c",
   "metadata": {},
   "outputs": [
    {
     "data": {
      "text/plain": [
       "int"
      ]
     },
     "execution_count": 2,
     "metadata": {},
     "output_type": "execute_result"
    }
   ],
   "source": [
    "type(10*5)"
   ]
  },
  {
   "cell_type": "code",
   "execution_count": 3,
   "id": "d623f0c3",
   "metadata": {},
   "outputs": [],
   "source": [
    "x = -50"
   ]
  },
  {
   "cell_type": "code",
   "execution_count": 4,
   "id": "826e6630",
   "metadata": {},
   "outputs": [
    {
     "data": {
      "text/plain": [
       "int"
      ]
     },
     "execution_count": 4,
     "metadata": {},
     "output_type": "execute_result"
    }
   ],
   "source": [
    "type(x)"
   ]
  },
  {
   "cell_type": "code",
   "execution_count": 5,
   "id": "20c399e9",
   "metadata": {},
   "outputs": [],
   "source": [
    "# int => integer"
   ]
  },
  {
   "cell_type": "code",
   "execution_count": 6,
   "id": "d4505f78",
   "metadata": {},
   "outputs": [],
   "source": [
    "pi = 3.14"
   ]
  },
  {
   "cell_type": "code",
   "execution_count": 7,
   "id": "a0ae0e90",
   "metadata": {},
   "outputs": [
    {
     "data": {
      "text/plain": [
       "float"
      ]
     },
     "execution_count": 7,
     "metadata": {},
     "output_type": "execute_result"
    }
   ],
   "source": [
    "type(pi)"
   ]
  },
  {
   "cell_type": "code",
   "execution_count": 8,
   "id": "bd53e23f",
   "metadata": {},
   "outputs": [
    {
     "data": {
      "text/plain": [
       "float"
      ]
     },
     "execution_count": 8,
     "metadata": {},
     "output_type": "execute_result"
    }
   ],
   "source": [
    "type(10/2)"
   ]
  },
  {
   "cell_type": "code",
   "execution_count": 9,
   "id": "1b2c28df",
   "metadata": {},
   "outputs": [],
   "source": [
    "# float => floating point"
   ]
  },
  {
   "cell_type": "code",
   "execution_count": 10,
   "id": "2881ae91",
   "metadata": {},
   "outputs": [],
   "source": [
    "myFloat = 1.5251251551"
   ]
  },
  {
   "cell_type": "code",
   "execution_count": 11,
   "id": "1ae33a25",
   "metadata": {},
   "outputs": [
    {
     "data": {
      "text/plain": [
       "float"
      ]
     },
     "execution_count": 11,
     "metadata": {},
     "output_type": "execute_result"
    }
   ],
   "source": [
    "type(myFloat)"
   ]
  },
  {
   "cell_type": "code",
   "execution_count": 12,
   "id": "f97188b0",
   "metadata": {},
   "outputs": [],
   "source": [
    "# Numaraların farklı veri tiplerinin olma sebebi hafızanın iyi yönetilmesinden kaynaklanmaktadır.\n",
    "# Tamsayıyı hafızada tutabilmek, ondalıklı sayıyı hafızada tutabilmekten daha basittir."
   ]
  },
  {
   "cell_type": "code",
   "execution_count": 13,
   "id": "de2b1fda",
   "metadata": {},
   "outputs": [],
   "source": [
    "# camelCase => myFloat (Değişken isimlendirmelerini daha okunabilir yapmalıyız)\n",
    "# snake_case\n",
    "# PascalCase"
   ]
  },
  {
   "cell_type": "code",
   "execution_count": 14,
   "id": "e8dfde56",
   "metadata": {},
   "outputs": [],
   "source": [
    "myFloat = 40 / 4"
   ]
  },
  {
   "cell_type": "code",
   "execution_count": 15,
   "id": "afb4fa42",
   "metadata": {},
   "outputs": [
    {
     "data": {
      "text/plain": [
       "10.0"
      ]
     },
     "execution_count": 15,
     "metadata": {},
     "output_type": "execute_result"
    }
   ],
   "source": [
    "myFloat"
   ]
  },
  {
   "cell_type": "code",
   "execution_count": 16,
   "id": "653bc350",
   "metadata": {},
   "outputs": [
    {
     "data": {
      "text/plain": [
       "float"
      ]
     },
     "execution_count": 16,
     "metadata": {},
     "output_type": "execute_result"
    }
   ],
   "source": [
    "type(myFloat) "
   ]
  },
  {
   "cell_type": "code",
   "execution_count": 19,
   "id": "992c5923",
   "metadata": {},
   "outputs": [],
   "source": [
    "# Programlama dillerinin verdiği bazı kararlar vardır. Yukarıdaki işlemimizin sonucunun float tipinde bir değer çıkma sebebi\n",
    "# bir int tipindeki değeri yine bir int tipindeki değere bölersek sonucunun float bir değer çıkma olasılığının daha yüksek olmasındandır."
   ]
  },
  {
   "cell_type": "code",
   "execution_count": 22,
   "id": "985d5260",
   "metadata": {},
   "outputs": [
    {
     "data": {
      "text/plain": [
       "float"
      ]
     },
     "execution_count": 22,
     "metadata": {},
     "output_type": "execute_result"
    }
   ],
   "source": [
    "type(4-3.0)"
   ]
  },
  {
   "cell_type": "code",
   "execution_count": 25,
   "id": "d9c706ea",
   "metadata": {},
   "outputs": [
    {
     "data": {
      "text/plain": [
       "float"
      ]
     },
     "execution_count": 25,
     "metadata": {},
     "output_type": "execute_result"
    }
   ],
   "source": [
    "type(2.5 * 2 + 10)"
   ]
  },
  {
   "cell_type": "code",
   "execution_count": 26,
   "id": "65cc3854",
   "metadata": {},
   "outputs": [],
   "source": [
    "# Python'da işlem önceliği otomatik olarak yapılır."
   ]
  },
  {
   "cell_type": "code",
   "execution_count": 27,
   "id": "354c65e5",
   "metadata": {},
   "outputs": [
    {
     "data": {
      "text/plain": [
       "-240"
      ]
     },
     "execution_count": 27,
     "metadata": {},
     "output_type": "execute_result"
    }
   ],
   "source": [
    "10 - 50 * 5"
   ]
  },
  {
   "cell_type": "code",
   "execution_count": 28,
   "id": "3887c349",
   "metadata": {},
   "outputs": [
    {
     "data": {
      "text/plain": [
       "8"
      ]
     },
     "execution_count": 28,
     "metadata": {},
     "output_type": "execute_result"
    }
   ],
   "source": [
    "2 * 2 * 2"
   ]
  },
  {
   "cell_type": "code",
   "execution_count": 29,
   "id": "dc70a01f",
   "metadata": {},
   "outputs": [
    {
     "data": {
      "text/plain": [
       "8"
      ]
     },
     "execution_count": 29,
     "metadata": {},
     "output_type": "execute_result"
    }
   ],
   "source": [
    "2 ** 3"
   ]
  },
  {
   "cell_type": "code",
   "execution_count": 30,
   "id": "c0721cb5",
   "metadata": {},
   "outputs": [],
   "source": [
    "# % => kalan bulma operatörü (remainder)"
   ]
  },
  {
   "cell_type": "code",
   "execution_count": 31,
   "id": "addaa3b7",
   "metadata": {},
   "outputs": [
    {
     "data": {
      "text/plain": [
       "2"
      ]
     },
     "execution_count": 31,
     "metadata": {},
     "output_type": "execute_result"
    }
   ],
   "source": [
    "10 % 4"
   ]
  },
  {
   "cell_type": "code",
   "execution_count": null,
   "id": "f07df11b",
   "metadata": {},
   "outputs": [],
   "source": []
  }
 ],
 "metadata": {
  "kernelspec": {
   "display_name": "Python 3 (ipykernel)",
   "language": "python",
   "name": "python3"
  },
  "language_info": {
   "codemirror_mode": {
    "name": "ipython",
    "version": 3
   },
   "file_extension": ".py",
   "mimetype": "text/x-python",
   "name": "python",
   "nbconvert_exporter": "python",
   "pygments_lexer": "ipython3",
   "version": "3.11.5"
  }
 },
 "nbformat": 4,
 "nbformat_minor": 5
}
