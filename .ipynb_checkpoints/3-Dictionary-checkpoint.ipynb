{
 "cells": [
  {
   "cell_type": "code",
   "execution_count": 1,
   "id": "4aa65055",
   "metadata": {},
   "outputs": [],
   "source": [
    "# key-value pairing"
   ]
  },
  {
   "cell_type": "code",
   "execution_count": 2,
   "id": "83fbabac",
   "metadata": {},
   "outputs": [],
   "source": [
    "fruitList = [\"banana\", \"apple\"]"
   ]
  },
  {
   "cell_type": "code",
   "execution_count": 3,
   "id": "aab7d3da",
   "metadata": {},
   "outputs": [],
   "source": [
    "calorieList = [100, 150]"
   ]
  },
  {
   "cell_type": "code",
   "execution_count": 4,
   "id": "822dad0a",
   "metadata": {},
   "outputs": [
    {
     "data": {
      "text/plain": [
       "'banana'"
      ]
     },
     "execution_count": 4,
     "metadata": {},
     "output_type": "execute_result"
    }
   ],
   "source": [
    "fruitList[0]"
   ]
  },
  {
   "cell_type": "code",
   "execution_count": 5,
   "id": "72ae813d",
   "metadata": {},
   "outputs": [
    {
     "data": {
      "text/plain": [
       "100"
      ]
     },
     "execution_count": 5,
     "metadata": {},
     "output_type": "execute_result"
    }
   ],
   "source": [
    "calorieList[0]"
   ]
  },
  {
   "cell_type": "code",
   "execution_count": 9,
   "id": "2b53f274",
   "metadata": {},
   "outputs": [],
   "source": [
    "# Bazı durumlarda index mantığı ile hareket etmek mantıksızdır. Hataya sebep olur.\n",
    "# Dictionary veri tipinde index mantığı yoktur. Anahtar-değer eşleşmesi vardır."
   ]
  },
  {
   "cell_type": "code",
   "execution_count": 7,
   "id": "da845e53",
   "metadata": {},
   "outputs": [],
   "source": [
    "fitnessDictionary = {\"banana\": 100, \"apple\": 150}"
   ]
  },
  {
   "cell_type": "code",
   "execution_count": 8,
   "id": "03b477e4",
   "metadata": {},
   "outputs": [
    {
     "data": {
      "text/plain": [
       "dict"
      ]
     },
     "execution_count": 8,
     "metadata": {},
     "output_type": "execute_result"
    }
   ],
   "source": [
    "type(fitnessDictionary)"
   ]
  },
  {
   "cell_type": "code",
   "execution_count": 10,
   "id": "78afd36d",
   "metadata": {},
   "outputs": [
    {
     "data": {
      "text/plain": [
       "150"
      ]
     },
     "execution_count": 10,
     "metadata": {},
     "output_type": "execute_result"
    }
   ],
   "source": [
    "fitnessDictionary[\"apple\"]"
   ]
  },
  {
   "cell_type": "code",
   "execution_count": 11,
   "id": "2ccd3985",
   "metadata": {},
   "outputs": [
    {
     "data": {
      "text/plain": [
       "dict_keys(['banana', 'apple'])"
      ]
     },
     "execution_count": 11,
     "metadata": {},
     "output_type": "execute_result"
    }
   ],
   "source": [
    "fitnessDictionary.keys()"
   ]
  },
  {
   "cell_type": "code",
   "execution_count": 14,
   "id": "c036f0d4",
   "metadata": {},
   "outputs": [
    {
     "data": {
      "text/plain": [
       "dict_values([100, 150])"
      ]
     },
     "execution_count": 14,
     "metadata": {},
     "output_type": "execute_result"
    }
   ],
   "source": [
    "fitnessDictionary.values()"
   ]
  },
  {
   "cell_type": "code",
   "execution_count": 19,
   "id": "205b5111",
   "metadata": {},
   "outputs": [],
   "source": [
    "myList = list(fitnessDictionary.values())"
   ]
  },
  {
   "cell_type": "code",
   "execution_count": 20,
   "id": "cc66b6c5",
   "metadata": {},
   "outputs": [
    {
     "data": {
      "text/plain": [
       "[100, 150]"
      ]
     },
     "execution_count": 20,
     "metadata": {},
     "output_type": "execute_result"
    }
   ],
   "source": [
    "myList"
   ]
  },
  {
   "cell_type": "code",
   "execution_count": 21,
   "id": "d24fe8a1",
   "metadata": {},
   "outputs": [],
   "source": [
    "fitnessDictionary[\"banana\"] = 200"
   ]
  },
  {
   "cell_type": "code",
   "execution_count": null,
   "id": "76cae89c",
   "metadata": {},
   "outputs": [],
   "source": [
    "# Dictionary =>  mutable-mutability"
   ]
  },
  {
   "cell_type": "code",
   "execution_count": 22,
   "id": "256166b5",
   "metadata": {},
   "outputs": [
    {
     "data": {
      "text/plain": [
       "{'banana': 200, 'apple': 150}"
      ]
     },
     "execution_count": 22,
     "metadata": {},
     "output_type": "execute_result"
    }
   ],
   "source": [
    "fitnessDictionary"
   ]
  },
  {
   "cell_type": "code",
   "execution_count": 23,
   "id": "9a50cb87",
   "metadata": {},
   "outputs": [],
   "source": [
    "fitnessDictionary[\"orange\"] = 85"
   ]
  },
  {
   "cell_type": "code",
   "execution_count": 24,
   "id": "20d402be",
   "metadata": {},
   "outputs": [
    {
     "data": {
      "text/plain": [
       "{'banana': 200, 'apple': 150, 'orange': 85}"
      ]
     },
     "execution_count": 24,
     "metadata": {},
     "output_type": "execute_result"
    }
   ],
   "source": [
    "fitnessDictionary"
   ]
  },
  {
   "cell_type": "code",
   "execution_count": 25,
   "id": "ebe513e8",
   "metadata": {},
   "outputs": [
    {
     "data": {
      "text/plain": [
       "150"
      ]
     },
     "execution_count": 25,
     "metadata": {},
     "output_type": "execute_result"
    }
   ],
   "source": [
    "fitnessDictionary.get(\"apple\", 0)"
   ]
  },
  {
   "cell_type": "code",
   "execution_count": 27,
   "id": "d517f0bc",
   "metadata": {},
   "outputs": [
    {
     "data": {
      "text/plain": [
       "0"
      ]
     },
     "execution_count": 27,
     "metadata": {},
     "output_type": "execute_result"
    }
   ],
   "source": [
    "fitnessDictionary.get(\"appl\", 0) # Aradığımız anahtar kelime fitnessDictionary değişkeninde yoksa default girdiğimiz 0 değeri döner. Get method kullanarak hata almaktan kurtulmuş oluruz."
   ]
  },
  {
   "cell_type": "code",
   "execution_count": 31,
   "id": "2542ec21",
   "metadata": {},
   "outputs": [],
   "source": [
    "myDictionary = {100: \"a\", 200: \"b\", 300: \"c\"}"
   ]
  },
  {
   "cell_type": "code",
   "execution_count": 32,
   "id": "ed523e68",
   "metadata": {},
   "outputs": [
    {
     "data": {
      "text/plain": [
       "{100: 'a', 200: 'b', 300: 'c'}"
      ]
     },
     "execution_count": 32,
     "metadata": {},
     "output_type": "execute_result"
    }
   ],
   "source": [
    "myDictionary"
   ]
  },
  {
   "cell_type": "code",
   "execution_count": 33,
   "id": "9f2af0e7",
   "metadata": {},
   "outputs": [
    {
     "data": {
      "text/plain": [
       "'a'"
      ]
     },
     "execution_count": 33,
     "metadata": {},
     "output_type": "execute_result"
    }
   ],
   "source": [
    "myDictionary[100]"
   ]
  },
  {
   "cell_type": "code",
   "execution_count": 34,
   "id": "4a1a3807",
   "metadata": {},
   "outputs": [],
   "source": [
    "myDictionary = {\"key1\": \"value1\", \"key2\": \"value2\"}"
   ]
  },
  {
   "cell_type": "code",
   "execution_count": 35,
   "id": "b0e40dce",
   "metadata": {},
   "outputs": [
    {
     "data": {
      "text/plain": [
       "'value1'"
      ]
     },
     "execution_count": 35,
     "metadata": {},
     "output_type": "execute_result"
    }
   ],
   "source": [
    "myDictionary[\"key1\"]"
   ]
  },
  {
   "cell_type": "code",
   "execution_count": 36,
   "id": "35d269e3",
   "metadata": {},
   "outputs": [],
   "source": [
    "myMixedDictionary = {\"key1\": 100, \"key2\": 3.14, \"key3\": [1,2,3]}"
   ]
  },
  {
   "cell_type": "code",
   "execution_count": 39,
   "id": "23ab818e",
   "metadata": {},
   "outputs": [
    {
     "data": {
      "text/plain": [
       "{'key1': 100, 'key2': 3.14, 'key3': [1, 2, 3]}"
      ]
     },
     "execution_count": 39,
     "metadata": {},
     "output_type": "execute_result"
    }
   ],
   "source": [
    "myMixedDictionary"
   ]
  },
  {
   "cell_type": "code",
   "execution_count": 40,
   "id": "77d50397",
   "metadata": {},
   "outputs": [
    {
     "data": {
      "text/plain": [
       "[1, 2, 3]"
      ]
     },
     "execution_count": 40,
     "metadata": {},
     "output_type": "execute_result"
    }
   ],
   "source": [
    "myMixedDictionary[\"key3\"]"
   ]
  },
  {
   "cell_type": "code",
   "execution_count": 41,
   "id": "7f2af374",
   "metadata": {},
   "outputs": [
    {
     "data": {
      "text/plain": [
       "3"
      ]
     },
     "execution_count": 41,
     "metadata": {},
     "output_type": "execute_result"
    }
   ],
   "source": [
    "myMixedDictionary[\"key3\"][2]"
   ]
  },
  {
   "cell_type": "code",
   "execution_count": 43,
   "id": "e4fc348b",
   "metadata": {},
   "outputs": [],
   "source": [
    "lastDictionary = {\"k1\": 10, \"k2\": [10,20,30], \"k3\": \"string\", \"k4\": {\"a\": 100, \"b\": 200}}"
   ]
  },
  {
   "cell_type": "code",
   "execution_count": 44,
   "id": "d13cc42a",
   "metadata": {},
   "outputs": [
    {
     "data": {
      "text/plain": [
       "200"
      ]
     },
     "execution_count": 44,
     "metadata": {},
     "output_type": "execute_result"
    }
   ],
   "source": [
    "lastDictionary[\"k4\"][\"b\"]"
   ]
  },
  {
   "cell_type": "code",
   "execution_count": null,
   "id": "72a7e896",
   "metadata": {},
   "outputs": [],
   "source": []
  }
 ],
 "metadata": {
  "kernelspec": {
   "display_name": "Python 3 (ipykernel)",
   "language": "python",
   "name": "python3"
  },
  "language_info": {
   "codemirror_mode": {
    "name": "ipython",
    "version": 3
   },
   "file_extension": ".py",
   "mimetype": "text/x-python",
   "name": "python",
   "nbconvert_exporter": "python",
   "pygments_lexer": "ipython3",
   "version": "3.11.5"
  }
 },
 "nbformat": 4,
 "nbformat_minor": 5
}
