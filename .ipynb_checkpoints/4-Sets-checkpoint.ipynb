{
 "cells": [
  {
   "cell_type": "code",
   "execution_count": 1,
   "id": "baeef6c1",
   "metadata": {},
   "outputs": [],
   "source": [
    "# unique elements, unordered"
   ]
  },
  {
   "cell_type": "code",
   "execution_count": 2,
   "id": "43f5c41a",
   "metadata": {},
   "outputs": [],
   "source": [
    "myList = [1,2,3,4,1,1,2,2,4,3,3,4]"
   ]
  },
  {
   "cell_type": "code",
   "execution_count": 3,
   "id": "88040c60",
   "metadata": {},
   "outputs": [
    {
     "data": {
      "text/plain": [
       "12"
      ]
     },
     "execution_count": 3,
     "metadata": {},
     "output_type": "execute_result"
    }
   ],
   "source": [
    "len(myList)"
   ]
  },
  {
   "cell_type": "code",
   "execution_count": 4,
   "id": "7d36b17e",
   "metadata": {},
   "outputs": [],
   "source": [
    "mySet = set(myList)"
   ]
  },
  {
   "cell_type": "code",
   "execution_count": 5,
   "id": "ef485974",
   "metadata": {},
   "outputs": [
    {
     "data": {
      "text/plain": [
       "set"
      ]
     },
     "execution_count": 5,
     "metadata": {},
     "output_type": "execute_result"
    }
   ],
   "source": [
    "type(mySet)"
   ]
  },
  {
   "cell_type": "code",
   "execution_count": 6,
   "id": "09f22a4f",
   "metadata": {},
   "outputs": [
    {
     "data": {
      "text/plain": [
       "4"
      ]
     },
     "execution_count": 6,
     "metadata": {},
     "output_type": "execute_result"
    }
   ],
   "source": [
    "len(mySet)"
   ]
  },
  {
   "cell_type": "code",
   "execution_count": 7,
   "id": "c06f0df5",
   "metadata": {},
   "outputs": [
    {
     "data": {
      "text/plain": [
       "{1, 2, 3, 4}"
      ]
     },
     "execution_count": 7,
     "metadata": {},
     "output_type": "execute_result"
    }
   ],
   "source": [
    "mySet"
   ]
  },
  {
   "cell_type": "code",
   "execution_count": 8,
   "id": "f6d7a71b",
   "metadata": {},
   "outputs": [],
   "source": [
    "mySet = {10,20,30,10,20,40,50,50,60,60}"
   ]
  },
  {
   "cell_type": "code",
   "execution_count": 9,
   "id": "298f9fce",
   "metadata": {},
   "outputs": [
    {
     "data": {
      "text/plain": [
       "{10, 20, 30, 40, 50, 60}"
      ]
     },
     "execution_count": 9,
     "metadata": {},
     "output_type": "execute_result"
    }
   ],
   "source": [
    "mySet"
   ]
  },
  {
   "cell_type": "code",
   "execution_count": 10,
   "id": "1dd160fc",
   "metadata": {},
   "outputs": [],
   "source": [
    "mySet.add(100)"
   ]
  },
  {
   "cell_type": "code",
   "execution_count": 11,
   "id": "d4f61008",
   "metadata": {},
   "outputs": [
    {
     "data": {
      "text/plain": [
       "{10, 20, 30, 40, 50, 60, 100}"
      ]
     },
     "execution_count": 11,
     "metadata": {},
     "output_type": "execute_result"
    }
   ],
   "source": [
    "mySet"
   ]
  },
  {
   "cell_type": "code",
   "execution_count": 12,
   "id": "7b2aeb0c",
   "metadata": {},
   "outputs": [],
   "source": [
    "# Set veri yapısında index mantığı yoktur!"
   ]
  },
  {
   "cell_type": "code",
   "execution_count": 13,
   "id": "a69c9924",
   "metadata": {},
   "outputs": [],
   "source": [
    "mySet2 = {30,40,50,60,70}"
   ]
  },
  {
   "cell_type": "code",
   "execution_count": 14,
   "id": "4741002a",
   "metadata": {},
   "outputs": [
    {
     "data": {
      "text/plain": [
       "{10, 20, 30, 40, 50, 60, 70, 100}"
      ]
     },
     "execution_count": 14,
     "metadata": {},
     "output_type": "execute_result"
    }
   ],
   "source": [
    "mySet.union(mySet2)"
   ]
  },
  {
   "cell_type": "code",
   "execution_count": 15,
   "id": "4877e3ad",
   "metadata": {},
   "outputs": [
    {
     "data": {
      "text/plain": [
       "{30, 40, 50, 60}"
      ]
     },
     "execution_count": 15,
     "metadata": {},
     "output_type": "execute_result"
    }
   ],
   "source": [
    "mySet.intersection(mySet2)"
   ]
  },
  {
   "cell_type": "code",
   "execution_count": 16,
   "id": "853705a1",
   "metadata": {},
   "outputs": [],
   "source": [
    "# Matematikte kullandığımız küme işlemlerini set ile rahatlıkla kullanabiliriz."
   ]
  },
  {
   "cell_type": "code",
   "execution_count": 17,
   "id": "42c1885e",
   "metadata": {},
   "outputs": [],
   "source": [
    "countryList = [\"de\", \"fr\", \"tr\", \"fr\", \"tr\", \"tr\", \"de\", \"nl\", \"de\", \"tr\"]"
   ]
  },
  {
   "cell_type": "code",
   "execution_count": 21,
   "id": "a95cc558",
   "metadata": {},
   "outputs": [
    {
     "data": {
      "text/plain": [
       "4"
      ]
     },
     "execution_count": 21,
     "metadata": {},
     "output_type": "execute_result"
    }
   ],
   "source": [
    "len(set(countryList))"
   ]
  },
  {
   "cell_type": "code",
   "execution_count": 22,
   "id": "2f8c45e7",
   "metadata": {},
   "outputs": [],
   "source": [
    "emptyList = []"
   ]
  },
  {
   "cell_type": "code",
   "execution_count": 23,
   "id": "b50fc13d",
   "metadata": {},
   "outputs": [],
   "source": [
    "emptyList.append(10)\n",
    "emptyList.append(20)\n",
    "emptyList.append(30)"
   ]
  },
  {
   "cell_type": "code",
   "execution_count": 24,
   "id": "aab98e29",
   "metadata": {},
   "outputs": [
    {
     "data": {
      "text/plain": [
       "[10, 20, 30]"
      ]
     },
     "execution_count": 24,
     "metadata": {},
     "output_type": "execute_result"
    }
   ],
   "source": [
    "emptyList"
   ]
  },
  {
   "cell_type": "code",
   "execution_count": 25,
   "id": "2ef10a68",
   "metadata": {},
   "outputs": [],
   "source": [
    "emptySet = {} # Boş bir set oluşturmak istiyoruz. Fakat burada bir sıkıntı var. Çünkü dictionary veri yapısının da syntaxı süslü parantez."
   ]
  },
  {
   "cell_type": "code",
   "execution_count": 27,
   "id": "409bd312",
   "metadata": {},
   "outputs": [
    {
     "data": {
      "text/plain": [
       "dict"
      ]
     },
     "execution_count": 27,
     "metadata": {},
     "output_type": "execute_result"
    }
   ],
   "source": [
    "type(emptySet) # Boş bir set oluşturmak istedik fakat dictionary oluştu."
   ]
  },
  {
   "cell_type": "code",
   "execution_count": 28,
   "id": "66b69c65",
   "metadata": {},
   "outputs": [],
   "source": [
    "# Peki nasıl boş bir set oluştururuz?"
   ]
  },
  {
   "cell_type": "code",
   "execution_count": 29,
   "id": "956694d9",
   "metadata": {},
   "outputs": [],
   "source": [
    "emptySet = set()"
   ]
  },
  {
   "cell_type": "code",
   "execution_count": 30,
   "id": "0b9a35a9",
   "metadata": {},
   "outputs": [
    {
     "data": {
      "text/plain": [
       "set"
      ]
     },
     "execution_count": 30,
     "metadata": {},
     "output_type": "execute_result"
    }
   ],
   "source": [
    "type(emptySet)"
   ]
  },
  {
   "cell_type": "code",
   "execution_count": 31,
   "id": "4acf5cee",
   "metadata": {},
   "outputs": [],
   "source": [
    "emptySet.add(1)\n",
    "emptySet.add(1)\n",
    "emptySet.add(2)\n",
    "emptySet.add(3)\n",
    "emptySet.add(3)\n",
    "emptySet.add(3)\n",
    "emptySet.add(4)"
   ]
  },
  {
   "cell_type": "code",
   "execution_count": 32,
   "id": "c783296f",
   "metadata": {},
   "outputs": [
    {
     "data": {
      "text/plain": [
       "{1, 2, 3, 4}"
      ]
     },
     "execution_count": 32,
     "metadata": {},
     "output_type": "execute_result"
    }
   ],
   "source": [
    "emptySet"
   ]
  },
  {
   "cell_type": "code",
   "execution_count": 33,
   "id": "778ad597",
   "metadata": {},
   "outputs": [],
   "source": [
    "emptyList = list()"
   ]
  },
  {
   "cell_type": "code",
   "execution_count": 34,
   "id": "6a36fe8a",
   "metadata": {},
   "outputs": [
    {
     "data": {
      "text/plain": [
       "list"
      ]
     },
     "execution_count": 34,
     "metadata": {},
     "output_type": "execute_result"
    }
   ],
   "source": [
    "type(emptyList)"
   ]
  },
  {
   "cell_type": "code",
   "execution_count": 35,
   "id": "981d0482",
   "metadata": {},
   "outputs": [],
   "source": [
    "emptyDictionary = dict()"
   ]
  },
  {
   "cell_type": "code",
   "execution_count": 36,
   "id": "d0c23cb4",
   "metadata": {},
   "outputs": [
    {
     "data": {
      "text/plain": [
       "dict"
      ]
     },
     "execution_count": 36,
     "metadata": {},
     "output_type": "execute_result"
    }
   ],
   "source": [
    "type(emptyDictionary)"
   ]
  },
  {
   "cell_type": "code",
   "execution_count": null,
   "id": "d94c5130",
   "metadata": {},
   "outputs": [],
   "source": []
  }
 ],
 "metadata": {
  "kernelspec": {
   "display_name": "Python 3 (ipykernel)",
   "language": "python",
   "name": "python3"
  },
  "language_info": {
   "codemirror_mode": {
    "name": "ipython",
    "version": 3
   },
   "file_extension": ".py",
   "mimetype": "text/x-python",
   "name": "python",
   "nbconvert_exporter": "python",
   "pygments_lexer": "ipython3",
   "version": "3.11.5"
  }
 },
 "nbformat": 4,
 "nbformat_minor": 5
}
