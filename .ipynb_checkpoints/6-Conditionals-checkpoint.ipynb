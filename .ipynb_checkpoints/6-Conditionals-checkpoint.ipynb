{
 "cells": [
  {
   "cell_type": "code",
   "execution_count": 1,
   "id": "93625e0d",
   "metadata": {},
   "outputs": [],
   "source": [
    "# <, >, <=, >=,==, !=, and, or, not"
   ]
  },
  {
   "cell_type": "code",
   "execution_count": 3,
   "id": "bb93548a",
   "metadata": {},
   "outputs": [
    {
     "data": {
      "text/plain": [
       "True"
      ]
     },
     "execution_count": 3,
     "metadata": {},
     "output_type": "execute_result"
    }
   ],
   "source": [
    "not 1 != 1"
   ]
  },
  {
   "cell_type": "code",
   "execution_count": 4,
   "id": "d0ec4871",
   "metadata": {},
   "outputs": [
    {
     "data": {
      "text/plain": [
       "True"
      ]
     },
     "execution_count": 4,
     "metadata": {},
     "output_type": "execute_result"
    }
   ],
   "source": [
    "10 in [10,20,30]"
   ]
  },
  {
   "cell_type": "code",
   "execution_count": 5,
   "id": "efdf977f",
   "metadata": {},
   "outputs": [
    {
     "data": {
      "text/plain": [
       "False"
      ]
     },
     "execution_count": 5,
     "metadata": {},
     "output_type": "execute_result"
    }
   ],
   "source": [
    "10 not in [10,20,30]"
   ]
  },
  {
   "cell_type": "code",
   "execution_count": 6,
   "id": "5d2d38e8",
   "metadata": {},
   "outputs": [
    {
     "data": {
      "text/plain": [
       "True"
      ]
     },
     "execution_count": 6,
     "metadata": {},
     "output_type": "execute_result"
    }
   ],
   "source": [
    "10 in {10,20,30}"
   ]
  },
  {
   "cell_type": "code",
   "execution_count": 7,
   "id": "f787facf",
   "metadata": {},
   "outputs": [],
   "source": [
    "myDictionary = {\"a\": 10, \"b\": 20, \"c\": 30}"
   ]
  },
  {
   "cell_type": "code",
   "execution_count": 8,
   "id": "8ca09411",
   "metadata": {},
   "outputs": [
    {
     "data": {
      "text/plain": [
       "True"
      ]
     },
     "execution_count": 8,
     "metadata": {},
     "output_type": "execute_result"
    }
   ],
   "source": [
    "10 in myDictionary.values()"
   ]
  },
  {
   "cell_type": "code",
   "execution_count": 9,
   "id": "bc43af81",
   "metadata": {},
   "outputs": [
    {
     "data": {
      "text/plain": [
       "True"
      ]
     },
     "execution_count": 9,
     "metadata": {},
     "output_type": "execute_result"
    }
   ],
   "source": [
    "\"b\" in myDictionary.keys()"
   ]
  },
  {
   "cell_type": "code",
   "execution_count": 10,
   "id": "98c996f9",
   "metadata": {},
   "outputs": [],
   "source": [
    "mySuperHero = \"Batman\""
   ]
  },
  {
   "cell_type": "code",
   "execution_count": 11,
   "id": "7caa3678",
   "metadata": {},
   "outputs": [
    {
     "data": {
      "text/plain": [
       "False"
      ]
     },
     "execution_count": 11,
     "metadata": {},
     "output_type": "execute_result"
    }
   ],
   "source": [
    "mySuperHero == \"Superman\""
   ]
  },
  {
   "cell_type": "code",
   "execution_count": 14,
   "id": "23a967a8",
   "metadata": {},
   "outputs": [
    {
     "name": "stdout",
     "output_type": "stream",
     "text": [
      "Batman\n"
     ]
    }
   ],
   "source": [
    "if mySuperHero == \"Batman\":\n",
    "    #indentation\n",
    "    print(\"Batman\")"
   ]
  },
  {
   "cell_type": "code",
   "execution_count": 18,
   "id": "e660a47b",
   "metadata": {},
   "outputs": [
    {
     "name": "stdout",
     "output_type": "stream",
     "text": [
      "Enter superhero: Aquaman\n"
     ]
    }
   ],
   "source": [
    "superhero = input(\"Enter superhero: \")"
   ]
  },
  {
   "cell_type": "code",
   "execution_count": 19,
   "id": "aae608e5",
   "metadata": {},
   "outputs": [
    {
     "name": "stdout",
     "output_type": "stream",
     "text": [
      ":(\n"
     ]
    }
   ],
   "source": [
    "if superhero == \"Batman\":\n",
    "    print(\"Batman\")\n",
    "elif superhero == \"Iron Man\":\n",
    "    print(\"Iron Man\")\n",
    "elif superhero == \"Superman\":\n",
    "    print(\"Superman\")\n",
    "else: \n",
    "    print(\":(\")"
   ]
  },
  {
   "cell_type": "code",
   "execution_count": 22,
   "id": "4209fced",
   "metadata": {},
   "outputs": [
    {
     "name": "stdout",
     "output_type": "stream",
     "text": [
      "18 < age <= 30\n"
     ]
    }
   ],
   "source": [
    "myAge = 21\n",
    "\n",
    "if myAge <= 18:\n",
    "    print(\"age <= 18\")\n",
    "elif myAge > 18 and myAge <= 30:\n",
    "    print(\"18 < age <= 30\")\n",
    "elif myAge > 30 and myAge <= 40:\n",
    "    print(\"30 < age <= 40\")\n",
    "else:\n",
    "    print(\"age > 40\")"
   ]
  },
  {
   "cell_type": "code",
   "execution_count": 29,
   "id": "4cd8a7dd",
   "metadata": {},
   "outputs": [
    {
     "name": "stdout",
     "output_type": "stream",
     "text": [
      "enter superhero: Batman\n"
     ]
    }
   ],
   "source": [
    "mySuperhero = input(\"enter superhero: \")"
   ]
  },
  {
   "cell_type": "code",
   "execution_count": 24,
   "id": "50056111",
   "metadata": {},
   "outputs": [],
   "source": [
    "superheroList = [\"Spider Man\", \"Black Widow\", \"Iron Man\", \"Thor\"]"
   ]
  },
  {
   "cell_type": "code",
   "execution_count": 30,
   "id": "bf73662d",
   "metadata": {},
   "outputs": [
    {
     "name": "stdout",
     "output_type": "stream",
     "text": [
      "No\n"
     ]
    }
   ],
   "source": [
    "if mySuperhero in superheroList:\n",
    "    print(\"Yes\")\n",
    "else:\n",
    "    print(\"No\")"
   ]
  },
  {
   "cell_type": "code",
   "execution_count": null,
   "id": "72bf11f7",
   "metadata": {},
   "outputs": [],
   "source": []
  }
 ],
 "metadata": {
  "kernelspec": {
   "display_name": "Python 3 (ipykernel)",
   "language": "python",
   "name": "python3"
  },
  "language_info": {
   "codemirror_mode": {
    "name": "ipython",
    "version": 3
   },
   "file_extension": ".py",
   "mimetype": "text/x-python",
   "name": "python",
   "nbconvert_exporter": "python",
   "pygments_lexer": "ipython3",
   "version": "3.11.5"
  }
 },
 "nbformat": 4,
 "nbformat_minor": 5
}
