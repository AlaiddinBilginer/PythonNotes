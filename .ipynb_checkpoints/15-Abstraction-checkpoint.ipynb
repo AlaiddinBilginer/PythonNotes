{
 "cells": [
  {
   "cell_type": "code",
   "execution_count": 1,
   "id": "ae33a425",
   "metadata": {},
   "outputs": [],
   "source": [
    "from abc import ABC, abstractmethod"
   ]
  },
  {
   "cell_type": "code",
   "execution_count": 2,
   "id": "2956a0cd",
   "metadata": {},
   "outputs": [],
   "source": [
    "class Car(ABC):\n",
    "    \n",
    "    @abstractmethod\n",
    "    def maxSpeed():\n",
    "        pass"
   ]
  },
  {
   "cell_type": "code",
   "execution_count": 4,
   "id": "6a96f174",
   "metadata": {},
   "outputs": [],
   "source": [
    "#myCar = Car() Abstract sınıftan nesne oluşturulamaz."
   ]
  },
  {
   "cell_type": "code",
   "execution_count": 11,
   "id": "4fcc21dd",
   "metadata": {},
   "outputs": [],
   "source": [
    "class Tesla(Car):\n",
    "    \n",
    "    def maxSpeed(self):\n",
    "        print(\"200km\")"
   ]
  },
  {
   "cell_type": "code",
   "execution_count": 12,
   "id": "538023d4",
   "metadata": {},
   "outputs": [],
   "source": [
    "tesla = Tesla() # Eğer Tesla sınıfında Abstract sınıfımızdaki method veya methodlar olmazsa Tesla sınıfından nesne oluşturamayız."
   ]
  },
  {
   "cell_type": "code",
   "execution_count": 13,
   "id": "3c8dd98e",
   "metadata": {},
   "outputs": [
    {
     "name": "stdout",
     "output_type": "stream",
     "text": [
      "200km\n"
     ]
    }
   ],
   "source": [
    "tesla.maxSpeed()"
   ]
  },
  {
   "cell_type": "code",
   "execution_count": 18,
   "id": "5b35098c",
   "metadata": {},
   "outputs": [],
   "source": [
    "class Mercedes(ABC):\n",
    "    \n",
    "    def maxSpeed(self):\n",
    "        print(\"250km\")"
   ]
  },
  {
   "cell_type": "code",
   "execution_count": 19,
   "id": "40c1f2d4",
   "metadata": {},
   "outputs": [],
   "source": [
    "mercedes = Mercedes()"
   ]
  },
  {
   "cell_type": "code",
   "execution_count": 20,
   "id": "8a03a845",
   "metadata": {},
   "outputs": [
    {
     "name": "stdout",
     "output_type": "stream",
     "text": [
      "250km\n"
     ]
    }
   ],
   "source": [
    "mercedes.maxSpeed()"
   ]
  },
  {
   "cell_type": "code",
   "execution_count": null,
   "id": "0d68cb51",
   "metadata": {},
   "outputs": [],
   "source": []
  }
 ],
 "metadata": {
  "kernelspec": {
   "display_name": "Python 3 (ipykernel)",
   "language": "python",
   "name": "python3"
  },
  "language_info": {
   "codemirror_mode": {
    "name": "ipython",
    "version": 3
   },
   "file_extension": ".py",
   "mimetype": "text/x-python",
   "name": "python",
   "nbconvert_exporter": "python",
   "pygments_lexer": "ipython3",
   "version": "3.11.5"
  }
 },
 "nbformat": 4,
 "nbformat_minor": 5
}
