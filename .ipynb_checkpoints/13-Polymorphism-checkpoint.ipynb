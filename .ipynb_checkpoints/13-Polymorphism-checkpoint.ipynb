{
 "cells": [
  {
   "cell_type": "code",
   "execution_count": 1,
   "id": "4bb84442",
   "metadata": {},
   "outputs": [],
   "source": [
    "class Banana():\n",
    "    def __init__(self,name):\n",
    "        self.name = name\n",
    "    \n",
    "    def info(self):\n",
    "        return f\"100 Calories {self.name}\"\n",
    "\n",
    "class Apple():\n",
    "    def __init__(self,name):\n",
    "        self.name = name\n",
    "    \n",
    "    def info(self):\n",
    "        return f\"150 Calories {self.name}\"\n"
   ]
  },
  {
   "cell_type": "code",
   "execution_count": 2,
   "id": "85d6fdc3",
   "metadata": {},
   "outputs": [],
   "source": [
    "banana = Banana(\"banana\")"
   ]
  },
  {
   "cell_type": "code",
   "execution_count": 3,
   "id": "e33c3852",
   "metadata": {},
   "outputs": [],
   "source": [
    "apple = Apple(\"apple\")"
   ]
  },
  {
   "cell_type": "code",
   "execution_count": 5,
   "id": "50383e93",
   "metadata": {},
   "outputs": [
    {
     "data": {
      "text/plain": [
       "'100 Calories banana'"
      ]
     },
     "execution_count": 5,
     "metadata": {},
     "output_type": "execute_result"
    }
   ],
   "source": [
    "banana.info()"
   ]
  },
  {
   "cell_type": "code",
   "execution_count": 6,
   "id": "8ca401cc",
   "metadata": {},
   "outputs": [
    {
     "data": {
      "text/plain": [
       "'150 Calories apple'"
      ]
     },
     "execution_count": 6,
     "metadata": {},
     "output_type": "execute_result"
    }
   ],
   "source": [
    "apple.info()"
   ]
  },
  {
   "cell_type": "code",
   "execution_count": 7,
   "id": "16de5815",
   "metadata": {},
   "outputs": [],
   "source": [
    "fruitList = [banana, apple]"
   ]
  },
  {
   "cell_type": "code",
   "execution_count": 8,
   "id": "345c21d9",
   "metadata": {},
   "outputs": [
    {
     "name": "stdout",
     "output_type": "stream",
     "text": [
      "100 Calories banana\n",
      "150 Calories apple\n"
     ]
    }
   ],
   "source": [
    "for fruit in fruitList:\n",
    "    print(fruit.info())"
   ]
  },
  {
   "cell_type": "code",
   "execution_count": null,
   "id": "971d50f2",
   "metadata": {},
   "outputs": [],
   "source": []
  }
 ],
 "metadata": {
  "kernelspec": {
   "display_name": "Python 3 (ipykernel)",
   "language": "python",
   "name": "python3"
  },
  "language_info": {
   "codemirror_mode": {
    "name": "ipython",
    "version": 3
   },
   "file_extension": ".py",
   "mimetype": "text/x-python",
   "name": "python",
   "nbconvert_exporter": "python",
   "pygments_lexer": "ipython3",
   "version": "3.11.5"
  }
 },
 "nbformat": 4,
 "nbformat_minor": 5
}
