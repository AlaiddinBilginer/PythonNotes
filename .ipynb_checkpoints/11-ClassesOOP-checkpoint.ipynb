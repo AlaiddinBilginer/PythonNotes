{
 "cells": [
  {
   "cell_type": "code",
   "execution_count": 53,
   "id": "619e641c",
   "metadata": {},
   "outputs": [],
   "source": [
    "class Person():\n",
    "    #property\n",
    "    #name = \"\"\n",
    "    #age = 0\n",
    "    #gender = \"\" özelliklerimizi yazmasakta python bunu anlar.\n",
    "    job = \"developer\" #nesne oluştururken job değerini almak zorunlu olmaz. Çünkü init methoduna tanımlamadık.\n",
    "    \n",
    "    #initializer method\n",
    "    def __init__(self, name, age, gender):\n",
    "        self.name = name\n",
    "        self.age = age\n",
    "        self.gender = gender\n",
    "    \n",
    "    #method\n",
    "    def printName(self):\n",
    "        print(self.name)"
   ]
  },
  {
   "cell_type": "code",
   "execution_count": 54,
   "id": "be81f64c",
   "metadata": {},
   "outputs": [],
   "source": [
    "alaiddin = Person(\"Alaiddin\", 21, \"Male\")"
   ]
  },
  {
   "cell_type": "code",
   "execution_count": 55,
   "id": "6a09f44d",
   "metadata": {},
   "outputs": [
    {
     "data": {
      "text/plain": [
       "'Alaiddin'"
      ]
     },
     "execution_count": 55,
     "metadata": {},
     "output_type": "execute_result"
    }
   ],
   "source": [
    "alaiddin.name"
   ]
  },
  {
   "cell_type": "code",
   "execution_count": 56,
   "id": "b2451d17",
   "metadata": {},
   "outputs": [
    {
     "data": {
      "text/plain": [
       "21"
      ]
     },
     "execution_count": 56,
     "metadata": {},
     "output_type": "execute_result"
    }
   ],
   "source": [
    "alaiddin.age"
   ]
  },
  {
   "cell_type": "code",
   "execution_count": 57,
   "id": "31baeaea",
   "metadata": {},
   "outputs": [
    {
     "data": {
      "text/plain": [
       "'Male'"
      ]
     },
     "execution_count": 57,
     "metadata": {},
     "output_type": "execute_result"
    }
   ],
   "source": [
    "alaiddin.gender"
   ]
  },
  {
   "cell_type": "code",
   "execution_count": 58,
   "id": "08a315b7",
   "metadata": {},
   "outputs": [
    {
     "name": "stdout",
     "output_type": "stream",
     "text": [
      "Alaiddin\n"
     ]
    }
   ],
   "source": [
    "alaiddin.printName()"
   ]
  },
  {
   "cell_type": "code",
   "execution_count": 59,
   "id": "a7890d92",
   "metadata": {},
   "outputs": [],
   "source": [
    "alaiddin.job = \"Software Engineer\""
   ]
  },
  {
   "cell_type": "code",
   "execution_count": 60,
   "id": "33497052",
   "metadata": {},
   "outputs": [
    {
     "data": {
      "text/plain": [
       "'Software Engineer'"
      ]
     },
     "execution_count": 60,
     "metadata": {},
     "output_type": "execute_result"
    }
   ],
   "source": [
    "alaiddin.job"
   ]
  },
  {
   "cell_type": "code",
   "execution_count": 77,
   "id": "18367d91",
   "metadata": {},
   "outputs": [],
   "source": [
    "class Dog():\n",
    "    year = 7\n",
    "    \n",
    "    def __init__(self,age = 5):\n",
    "        self.age = age\n",
    "        self.dogHumanAge = age * self.year\n",
    "        print(\"dog instance\")\n",
    "        \n",
    "    def humanAge(self):\n",
    "        return self.age * Dog.year #Dog.year => self.year"
   ]
  },
  {
   "cell_type": "code",
   "execution_count": 73,
   "id": "dfafa4a4",
   "metadata": {},
   "outputs": [
    {
     "name": "stdout",
     "output_type": "stream",
     "text": [
      "dog instance\n"
     ]
    }
   ],
   "source": [
    "myDog = Dog(3)"
   ]
  },
  {
   "cell_type": "code",
   "execution_count": 74,
   "id": "544a5049",
   "metadata": {},
   "outputs": [
    {
     "data": {
      "text/plain": [
       "21"
      ]
     },
     "execution_count": 74,
     "metadata": {},
     "output_type": "execute_result"
    }
   ],
   "source": [
    "myDog.humanAge()"
   ]
  },
  {
   "cell_type": "code",
   "execution_count": 75,
   "id": "dc395b83",
   "metadata": {},
   "outputs": [
    {
     "data": {
      "text/plain": [
       "21"
      ]
     },
     "execution_count": 75,
     "metadata": {},
     "output_type": "execute_result"
    }
   ],
   "source": [
    "myDog.dogHumanAge"
   ]
  },
  {
   "cell_type": "code",
   "execution_count": 78,
   "id": "3790883d",
   "metadata": {},
   "outputs": [
    {
     "name": "stdout",
     "output_type": "stream",
     "text": [
      "dog instance\n"
     ]
    }
   ],
   "source": [
    "karabas = Dog()"
   ]
  },
  {
   "cell_type": "code",
   "execution_count": 79,
   "id": "850ee038",
   "metadata": {},
   "outputs": [
    {
     "data": {
      "text/plain": [
       "5"
      ]
     },
     "execution_count": 79,
     "metadata": {},
     "output_type": "execute_result"
    }
   ],
   "source": [
    "karabas.age"
   ]
  },
  {
   "cell_type": "code",
   "execution_count": null,
   "id": "de7118d8",
   "metadata": {},
   "outputs": [],
   "source": []
  }
 ],
 "metadata": {
  "kernelspec": {
   "display_name": "Python 3 (ipykernel)",
   "language": "python",
   "name": "python3"
  },
  "language_info": {
   "codemirror_mode": {
    "name": "ipython",
    "version": 3
   },
   "file_extension": ".py",
   "mimetype": "text/x-python",
   "name": "python",
   "nbconvert_exporter": "python",
   "pygments_lexer": "ipython3",
   "version": "3.11.5"
  }
 },
 "nbformat": 4,
 "nbformat_minor": 5
}
