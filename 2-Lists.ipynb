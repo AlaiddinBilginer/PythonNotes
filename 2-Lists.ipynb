{
 "cells": [
  {
   "cell_type": "code",
   "execution_count": 1,
   "id": "ea0125c3",
   "metadata": {},
   "outputs": [],
   "source": [
    "# Veri tipi değildir, veri yapısıdır!"
   ]
  },
  {
   "cell_type": "code",
   "execution_count": 2,
   "id": "8593872b",
   "metadata": {},
   "outputs": [],
   "source": [
    "myString = \"Hello World\""
   ]
  },
  {
   "cell_type": "code",
   "execution_count": 4,
   "id": "6dd7bb07",
   "metadata": {},
   "outputs": [],
   "source": [
    "#myString[0] = \"h\" Hata alırız. \"str\" object does not support item assignment"
   ]
  },
  {
   "cell_type": "code",
   "execution_count": 5,
   "id": "ca962bc2",
   "metadata": {},
   "outputs": [],
   "source": [
    "# immutable - immutability"
   ]
  },
  {
   "cell_type": "code",
   "execution_count": 6,
   "id": "d5675cb4",
   "metadata": {},
   "outputs": [],
   "source": [
    "myList = [1,2,3,4,5]"
   ]
  },
  {
   "cell_type": "code",
   "execution_count": 7,
   "id": "248ae510",
   "metadata": {},
   "outputs": [
    {
     "data": {
      "text/plain": [
       "list"
      ]
     },
     "execution_count": 7,
     "metadata": {},
     "output_type": "execute_result"
    }
   ],
   "source": [
    "type(myList)"
   ]
  },
  {
   "cell_type": "code",
   "execution_count": 8,
   "id": "18f28b46",
   "metadata": {},
   "outputs": [],
   "source": [
    "x = 10\n",
    "y = 20\n",
    "z = 30\n",
    "\n",
    "myList = [x,y,z]"
   ]
  },
  {
   "cell_type": "code",
   "execution_count": 9,
   "id": "31f41617",
   "metadata": {},
   "outputs": [
    {
     "data": {
      "text/plain": [
       "[10, 20, 30]"
      ]
     },
     "execution_count": 9,
     "metadata": {},
     "output_type": "execute_result"
    }
   ],
   "source": [
    "myList"
   ]
  },
  {
   "cell_type": "code",
   "execution_count": 10,
   "id": "4600d897",
   "metadata": {},
   "outputs": [
    {
     "data": {
      "text/plain": [
       "10"
      ]
     },
     "execution_count": 10,
     "metadata": {},
     "output_type": "execute_result"
    }
   ],
   "source": [
    "myList[0]"
   ]
  },
  {
   "cell_type": "code",
   "execution_count": 11,
   "id": "041dd92e",
   "metadata": {},
   "outputs": [
    {
     "data": {
      "text/plain": [
       "int"
      ]
     },
     "execution_count": 11,
     "metadata": {},
     "output_type": "execute_result"
    }
   ],
   "source": [
    "type(myList[1])"
   ]
  },
  {
   "cell_type": "code",
   "execution_count": 12,
   "id": "2920d7fa",
   "metadata": {},
   "outputs": [],
   "source": [
    "myList[0] = 50"
   ]
  },
  {
   "cell_type": "code",
   "execution_count": 13,
   "id": "33d4c438",
   "metadata": {},
   "outputs": [
    {
     "data": {
      "text/plain": [
       "[50, 20, 30]"
      ]
     },
     "execution_count": 13,
     "metadata": {},
     "output_type": "execute_result"
    }
   ],
   "source": [
    "myList"
   ]
  },
  {
   "cell_type": "code",
   "execution_count": 14,
   "id": "93c9853d",
   "metadata": {},
   "outputs": [],
   "source": [
    "# mutable, mutability"
   ]
  },
  {
   "cell_type": "code",
   "execution_count": 16,
   "id": "bcf31bcb",
   "metadata": {},
   "outputs": [
    {
     "data": {
      "text/plain": [
       "3"
      ]
     },
     "execution_count": 16,
     "metadata": {},
     "output_type": "execute_result"
    }
   ],
   "source": [
    "len(myList)"
   ]
  },
  {
   "cell_type": "code",
   "execution_count": 18,
   "id": "87fc57ce",
   "metadata": {},
   "outputs": [
    {
     "data": {
      "text/plain": [
       "30"
      ]
     },
     "execution_count": 18,
     "metadata": {},
     "output_type": "execute_result"
    }
   ],
   "source": [
    "myList[len(myList) - 1]"
   ]
  },
  {
   "cell_type": "code",
   "execution_count": 19,
   "id": "b2d533a8",
   "metadata": {},
   "outputs": [
    {
     "data": {
      "text/plain": [
       "30"
      ]
     },
     "execution_count": 19,
     "metadata": {},
     "output_type": "execute_result"
    }
   ],
   "source": [
    "myList[-1]"
   ]
  },
  {
   "cell_type": "code",
   "execution_count": 23,
   "id": "c5aeee19",
   "metadata": {},
   "outputs": [
    {
     "data": {
      "text/plain": [
       "20"
      ]
     },
     "execution_count": 23,
     "metadata": {},
     "output_type": "execute_result"
    }
   ],
   "source": [
    "myList[-2]"
   ]
  },
  {
   "cell_type": "code",
   "execution_count": 25,
   "id": "87a989bf",
   "metadata": {},
   "outputs": [],
   "source": [
    "myList.append(40)"
   ]
  },
  {
   "cell_type": "code",
   "execution_count": 26,
   "id": "92fa7d00",
   "metadata": {},
   "outputs": [
    {
     "data": {
      "text/plain": [
       "[50, 20, 30, 40]"
      ]
     },
     "execution_count": 26,
     "metadata": {},
     "output_type": "execute_result"
    }
   ],
   "source": [
    "myList"
   ]
  },
  {
   "cell_type": "code",
   "execution_count": 27,
   "id": "c8979168",
   "metadata": {},
   "outputs": [],
   "source": [
    "myList.append(100)"
   ]
  },
  {
   "cell_type": "code",
   "execution_count": 28,
   "id": "b34d5e7c",
   "metadata": {},
   "outputs": [
    {
     "data": {
      "text/plain": [
       "[50, 20, 30, 40, 100]"
      ]
     },
     "execution_count": 28,
     "metadata": {},
     "output_type": "execute_result"
    }
   ],
   "source": [
    "myList"
   ]
  },
  {
   "cell_type": "code",
   "execution_count": 29,
   "id": "dabae754",
   "metadata": {},
   "outputs": [
    {
     "data": {
      "text/plain": [
       "1"
      ]
     },
     "execution_count": 29,
     "metadata": {},
     "output_type": "execute_result"
    }
   ],
   "source": [
    "myList.count(100)"
   ]
  },
  {
   "cell_type": "code",
   "execution_count": 30,
   "id": "44651e58",
   "metadata": {},
   "outputs": [
    {
     "data": {
      "text/plain": [
       "0"
      ]
     },
     "execution_count": 30,
     "metadata": {},
     "output_type": "execute_result"
    }
   ],
   "source": [
    "myList.count(10)"
   ]
  },
  {
   "cell_type": "code",
   "execution_count": 31,
   "id": "21232d2b",
   "metadata": {},
   "outputs": [
    {
     "data": {
      "text/plain": [
       "4"
      ]
     },
     "execution_count": 31,
     "metadata": {},
     "output_type": "execute_result"
    }
   ],
   "source": [
    "myList.index(100)"
   ]
  },
  {
   "cell_type": "code",
   "execution_count": 32,
   "id": "0352738d",
   "metadata": {},
   "outputs": [
    {
     "name": "stdout",
     "output_type": "stream",
     "text": [
      "Help on built-in function insert:\n",
      "\n",
      "insert(index, object, /) method of builtins.list instance\n",
      "    Insert object before index.\n",
      "\n"
     ]
    }
   ],
   "source": [
    "help(myList.insert)"
   ]
  },
  {
   "cell_type": "code",
   "execution_count": 33,
   "id": "96864bd7",
   "metadata": {},
   "outputs": [],
   "source": [
    "myList.insert(1, 25) # İstediğimiz index'e bir değer eklemek istiyorsak kullanırız."
   ]
  },
  {
   "cell_type": "code",
   "execution_count": 34,
   "id": "89b2529d",
   "metadata": {},
   "outputs": [
    {
     "data": {
      "text/plain": [
       "[50, 25, 20, 30, 40, 100]"
      ]
     },
     "execution_count": 34,
     "metadata": {},
     "output_type": "execute_result"
    }
   ],
   "source": [
    "myList"
   ]
  },
  {
   "cell_type": "code",
   "execution_count": 35,
   "id": "5f8e884e",
   "metadata": {},
   "outputs": [
    {
     "data": {
      "text/plain": [
       "100"
      ]
     },
     "execution_count": 35,
     "metadata": {},
     "output_type": "execute_result"
    }
   ],
   "source": [
    "myList.pop() # Son elemanı siler"
   ]
  },
  {
   "cell_type": "code",
   "execution_count": 36,
   "id": "b92802aa",
   "metadata": {},
   "outputs": [
    {
     "data": {
      "text/plain": [
       "[50, 25, 20, 30, 40]"
      ]
     },
     "execution_count": 36,
     "metadata": {},
     "output_type": "execute_result"
    }
   ],
   "source": [
    "myList"
   ]
  },
  {
   "cell_type": "code",
   "execution_count": 37,
   "id": "afe6e9da",
   "metadata": {},
   "outputs": [],
   "source": [
    "myList.remove(25)"
   ]
  },
  {
   "cell_type": "code",
   "execution_count": 38,
   "id": "54645064",
   "metadata": {},
   "outputs": [
    {
     "data": {
      "text/plain": [
       "[50, 20, 30, 40]"
      ]
     },
     "execution_count": 38,
     "metadata": {},
     "output_type": "execute_result"
    }
   ],
   "source": [
    "myList"
   ]
  },
  {
   "cell_type": "code",
   "execution_count": 39,
   "id": "09e0f0b9",
   "metadata": {},
   "outputs": [],
   "source": [
    "myList.reverse()"
   ]
  },
  {
   "cell_type": "code",
   "execution_count": 40,
   "id": "6e717e64",
   "metadata": {},
   "outputs": [
    {
     "data": {
      "text/plain": [
       "[40, 30, 20, 50]"
      ]
     },
     "execution_count": 40,
     "metadata": {},
     "output_type": "execute_result"
    }
   ],
   "source": [
    "myList"
   ]
  },
  {
   "cell_type": "code",
   "execution_count": 41,
   "id": "f65cdff6",
   "metadata": {},
   "outputs": [],
   "source": [
    "myList.sort()"
   ]
  },
  {
   "cell_type": "code",
   "execution_count": 45,
   "id": "42341ebd",
   "metadata": {},
   "outputs": [
    {
     "data": {
      "text/plain": [
       "[20, 30, 40, 50]"
      ]
     },
     "execution_count": 45,
     "metadata": {},
     "output_type": "execute_result"
    }
   ],
   "source": [
    "myList"
   ]
  },
  {
   "cell_type": "code",
   "execution_count": 46,
   "id": "a8f9e04a",
   "metadata": {},
   "outputs": [],
   "source": [
    "# En çok append method kullanacağız"
   ]
  },
  {
   "cell_type": "code",
   "execution_count": 50,
   "id": "2fa3da28",
   "metadata": {},
   "outputs": [
    {
     "name": "stdout",
     "output_type": "stream",
     "text": [
      "enter x:10\n"
     ]
    }
   ],
   "source": [
    "x = input(\"enter x:\")"
   ]
  },
  {
   "cell_type": "code",
   "execution_count": 48,
   "id": "c91fe255",
   "metadata": {},
   "outputs": [
    {
     "data": {
      "text/plain": [
       "'10'"
      ]
     },
     "execution_count": 48,
     "metadata": {},
     "output_type": "execute_result"
    }
   ],
   "source": [
    "x"
   ]
  },
  {
   "cell_type": "code",
   "execution_count": 49,
   "id": "25e6b49e",
   "metadata": {},
   "outputs": [
    {
     "data": {
      "text/plain": [
       "str"
      ]
     },
     "execution_count": 49,
     "metadata": {},
     "output_type": "execute_result"
    }
   ],
   "source": [
    "type(x)"
   ]
  },
  {
   "cell_type": "code",
   "execution_count": 51,
   "id": "d8ef2bed",
   "metadata": {},
   "outputs": [
    {
     "name": "stdout",
     "output_type": "stream",
     "text": [
      "enter y:20\n"
     ]
    }
   ],
   "source": [
    "y = input(\"enter y:\")"
   ]
  },
  {
   "cell_type": "code",
   "execution_count": 53,
   "id": "5739818b",
   "metadata": {},
   "outputs": [
    {
     "name": "stdout",
     "output_type": "stream",
     "text": [
      "enter z:30\n"
     ]
    }
   ],
   "source": [
    "z = input(\"enter z:\")"
   ]
  },
  {
   "cell_type": "code",
   "execution_count": 54,
   "id": "692e42e6",
   "metadata": {},
   "outputs": [],
   "source": [
    "inputList = []"
   ]
  },
  {
   "cell_type": "code",
   "execution_count": 55,
   "id": "130f92a0",
   "metadata": {},
   "outputs": [
    {
     "data": {
      "text/plain": [
       "[]"
      ]
     },
     "execution_count": 55,
     "metadata": {},
     "output_type": "execute_result"
    }
   ],
   "source": [
    "inputList"
   ]
  },
  {
   "cell_type": "code",
   "execution_count": 56,
   "id": "52be108d",
   "metadata": {},
   "outputs": [],
   "source": [
    "inputList.append(x)\n",
    "inputList.append(y)\n",
    "inputList.append(z)"
   ]
  },
  {
   "cell_type": "code",
   "execution_count": 57,
   "id": "99d9f5c3",
   "metadata": {},
   "outputs": [
    {
     "data": {
      "text/plain": [
       "['10', '20', '30']"
      ]
     },
     "execution_count": 57,
     "metadata": {},
     "output_type": "execute_result"
    }
   ],
   "source": [
    "inputList"
   ]
  },
  {
   "cell_type": "code",
   "execution_count": 58,
   "id": "4a5d3975",
   "metadata": {},
   "outputs": [
    {
     "data": {
      "text/plain": [
       "'30'"
      ]
     },
     "execution_count": 58,
     "metadata": {},
     "output_type": "execute_result"
    }
   ],
   "source": [
    "inputList[2]"
   ]
  },
  {
   "cell_type": "code",
   "execution_count": 61,
   "id": "41559c91",
   "metadata": {},
   "outputs": [
    {
     "data": {
      "text/plain": [
       "'3030'"
      ]
     },
     "execution_count": 61,
     "metadata": {},
     "output_type": "execute_result"
    }
   ],
   "source": [
    "inputList[2] * 2 #Sayısal bir sonuç istiyorsak tip dönüştürme yapmalıyız. Çünkü input ile kullanıcıdan değer aldığımızda python bu değeri str olarak tutar."
   ]
  },
  {
   "cell_type": "code",
   "execution_count": 62,
   "id": "4289ab71",
   "metadata": {},
   "outputs": [],
   "source": [
    "# Type Conversion"
   ]
  },
  {
   "cell_type": "code",
   "execution_count": 63,
   "id": "6d8367a6",
   "metadata": {},
   "outputs": [],
   "source": [
    "myInteger = 50"
   ]
  },
  {
   "cell_type": "code",
   "execution_count": 64,
   "id": "3e651c58",
   "metadata": {},
   "outputs": [
    {
     "data": {
      "text/plain": [
       "'50'"
      ]
     },
     "execution_count": 64,
     "metadata": {},
     "output_type": "execute_result"
    }
   ],
   "source": [
    "str(myInteger)"
   ]
  },
  {
   "cell_type": "code",
   "execution_count": 66,
   "id": "6564a9ca",
   "metadata": {},
   "outputs": [],
   "source": [
    "myString = \"50\""
   ]
  },
  {
   "cell_type": "code",
   "execution_count": 67,
   "id": "6ad01632",
   "metadata": {},
   "outputs": [
    {
     "data": {
      "text/plain": [
       "50"
      ]
     },
     "execution_count": 67,
     "metadata": {},
     "output_type": "execute_result"
    }
   ],
   "source": [
    "int(myString)"
   ]
  },
  {
   "cell_type": "code",
   "execution_count": 68,
   "id": "7c489f87",
   "metadata": {},
   "outputs": [],
   "source": [
    "myString = \"a\""
   ]
  },
  {
   "cell_type": "code",
   "execution_count": 70,
   "id": "6a6ec4e2",
   "metadata": {},
   "outputs": [],
   "source": [
    "#int(myString) HATA!!"
   ]
  },
  {
   "cell_type": "code",
   "execution_count": 73,
   "id": "2713e2c0",
   "metadata": {},
   "outputs": [],
   "source": [
    "myString = \"3.14\""
   ]
  },
  {
   "cell_type": "code",
   "execution_count": 74,
   "id": "2ae21bc2",
   "metadata": {},
   "outputs": [
    {
     "data": {
      "text/plain": [
       "3.14"
      ]
     },
     "execution_count": 74,
     "metadata": {},
     "output_type": "execute_result"
    }
   ],
   "source": [
    "float(myString)"
   ]
  },
  {
   "cell_type": "code",
   "execution_count": 80,
   "id": "8387860d",
   "metadata": {},
   "outputs": [
    {
     "name": "stdout",
     "output_type": "stream",
     "text": [
      "enter number1: 15\n"
     ]
    }
   ],
   "source": [
    "number1 = int(input(\"enter number1: \"))"
   ]
  },
  {
   "cell_type": "code",
   "execution_count": 76,
   "id": "2fd3a74d",
   "metadata": {},
   "outputs": [
    {
     "name": "stdout",
     "output_type": "stream",
     "text": [
      "enter number2: 20\n"
     ]
    }
   ],
   "source": [
    "number2 = int(input(\"enter number2: \"))"
   ]
  },
  {
   "cell_type": "code",
   "execution_count": 77,
   "id": "83b2465b",
   "metadata": {},
   "outputs": [],
   "source": [
    "number3 = number1 + number2"
   ]
  },
  {
   "cell_type": "code",
   "execution_count": 78,
   "id": "215df072",
   "metadata": {},
   "outputs": [
    {
     "data": {
      "text/plain": [
       "35"
      ]
     },
     "execution_count": 78,
     "metadata": {},
     "output_type": "execute_result"
    }
   ],
   "source": [
    "number3"
   ]
  },
  {
   "cell_type": "code",
   "execution_count": 81,
   "id": "1fa28862",
   "metadata": {},
   "outputs": [],
   "source": [
    "myList = [1,2,3]"
   ]
  },
  {
   "cell_type": "code",
   "execution_count": 84,
   "id": "14bcb3af",
   "metadata": {},
   "outputs": [],
   "source": [
    "newList = str(myList)"
   ]
  },
  {
   "cell_type": "code",
   "execution_count": 87,
   "id": "f3f6905b",
   "metadata": {},
   "outputs": [
    {
     "data": {
      "text/plain": [
       "'['"
      ]
     },
     "execution_count": 87,
     "metadata": {},
     "output_type": "execute_result"
    }
   ],
   "source": [
    "newList[0]"
   ]
  },
  {
   "cell_type": "code",
   "execution_count": 88,
   "id": "bbf6c7c0",
   "metadata": {},
   "outputs": [],
   "source": [
    "myString = \"10\""
   ]
  },
  {
   "cell_type": "code",
   "execution_count": 92,
   "id": "ff359058",
   "metadata": {},
   "outputs": [
    {
     "data": {
      "text/plain": [
       "10.0"
      ]
     },
     "execution_count": 92,
     "metadata": {},
     "output_type": "execute_result"
    }
   ],
   "source": [
    "float(myString)"
   ]
  },
  {
   "cell_type": "code",
   "execution_count": 93,
   "id": "e77f81cb",
   "metadata": {},
   "outputs": [],
   "source": [
    "mixedList = [\"a\", 1,2,3.14, \"b\"]"
   ]
  },
  {
   "cell_type": "code",
   "execution_count": 94,
   "id": "5f6e4a6f",
   "metadata": {},
   "outputs": [
    {
     "data": {
      "text/plain": [
       "list"
      ]
     },
     "execution_count": 94,
     "metadata": {},
     "output_type": "execute_result"
    }
   ],
   "source": [
    "type(mixedList)"
   ]
  },
  {
   "cell_type": "code",
   "execution_count": 96,
   "id": "a6c63d63",
   "metadata": {},
   "outputs": [],
   "source": [
    "list1 = [10,20,\"a\"]\n",
    "list2 = [\"b\", 30, 40]"
   ]
  },
  {
   "cell_type": "code",
   "execution_count": 97,
   "id": "2e29f770",
   "metadata": {},
   "outputs": [],
   "source": [
    "list3 = list1 + list2"
   ]
  },
  {
   "cell_type": "code",
   "execution_count": 98,
   "id": "6439a919",
   "metadata": {},
   "outputs": [
    {
     "data": {
      "text/plain": [
       "[10, 20, 'a', 'b', 30, 40]"
      ]
     },
     "execution_count": 98,
     "metadata": {},
     "output_type": "execute_result"
    }
   ],
   "source": [
    "list3"
   ]
  },
  {
   "cell_type": "code",
   "execution_count": 99,
   "id": "1f9c3ce5",
   "metadata": {},
   "outputs": [
    {
     "data": {
      "text/plain": [
       "[10, 20, 'a', 10, 20, 'a']"
      ]
     },
     "execution_count": 99,
     "metadata": {},
     "output_type": "execute_result"
    }
   ],
   "source": [
    "list1 * 2"
   ]
  },
  {
   "cell_type": "code",
   "execution_count": 100,
   "id": "a44d7b63",
   "metadata": {},
   "outputs": [
    {
     "data": {
      "text/plain": [
       "['a', 1, 2, 3.14, 'b']"
      ]
     },
     "execution_count": 100,
     "metadata": {},
     "output_type": "execute_result"
    }
   ],
   "source": [
    "mixedList"
   ]
  },
  {
   "cell_type": "code",
   "execution_count": 101,
   "id": "617027b5",
   "metadata": {},
   "outputs": [
    {
     "data": {
      "text/plain": [
       "float"
      ]
     },
     "execution_count": 101,
     "metadata": {},
     "output_type": "execute_result"
    }
   ],
   "source": [
    "type(mixedList[3])"
   ]
  },
  {
   "cell_type": "code",
   "execution_count": 102,
   "id": "cd810e48",
   "metadata": {},
   "outputs": [],
   "source": [
    "# nestedList"
   ]
  },
  {
   "cell_type": "code",
   "execution_count": 103,
   "id": "1e6d3f62",
   "metadata": {},
   "outputs": [],
   "source": [
    "myNestedList = [1,2,3,\"a\", 5.10, [\"b\",\"c\",\"d\"], 4]"
   ]
  },
  {
   "cell_type": "code",
   "execution_count": 104,
   "id": "2cb6659d",
   "metadata": {},
   "outputs": [
    {
     "data": {
      "text/plain": [
       "'c'"
      ]
     },
     "execution_count": 104,
     "metadata": {},
     "output_type": "execute_result"
    }
   ],
   "source": [
    "myNestedList[5][1]"
   ]
  },
  {
   "cell_type": "code",
   "execution_count": 105,
   "id": "b1d318cd",
   "metadata": {},
   "outputs": [],
   "source": [
    "# String veri tipinde kullandığımız slicing özelliği listelerde de geçerlidir."
   ]
  },
  {
   "cell_type": "code",
   "execution_count": null,
   "id": "dd913a3e",
   "metadata": {},
   "outputs": [],
   "source": []
  }
 ],
 "metadata": {
  "kernelspec": {
   "display_name": "Python 3 (ipykernel)",
   "language": "python",
   "name": "python3"
  },
  "language_info": {
   "codemirror_mode": {
    "name": "ipython",
    "version": 3
   },
   "file_extension": ".py",
   "mimetype": "text/x-python",
   "name": "python",
   "nbconvert_exporter": "python",
   "pygments_lexer": "ipython3",
   "version": "3.11.5"
  }
 },
 "nbformat": 4,
 "nbformat_minor": 5
}
