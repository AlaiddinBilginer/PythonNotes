{
 "cells": [
  {
   "cell_type": "code",
   "execution_count": 2,
   "id": "4cf48d06",
   "metadata": {},
   "outputs": [],
   "source": [
    "import pandas as pd\n",
    "import numpy as np"
   ]
  },
  {
   "cell_type": "code",
   "execution_count": 3,
   "id": "f9c3a019",
   "metadata": {},
   "outputs": [],
   "source": [
    "#series"
   ]
  },
  {
   "cell_type": "code",
   "execution_count": 4,
   "id": "5738e9fd",
   "metadata": {},
   "outputs": [],
   "source": [
    "myDict = {\"James\": 50, \"Lars\": 60, \"Kirk\": 55, \"Rob\": 65}"
   ]
  },
  {
   "cell_type": "code",
   "execution_count": 5,
   "id": "6b14df90",
   "metadata": {
    "scrolled": true
   },
   "outputs": [
    {
     "data": {
      "text/plain": [
       "James    50\n",
       "Lars     60\n",
       "Kirk     55\n",
       "Rob      65\n",
       "dtype: int64"
      ]
     },
     "execution_count": 5,
     "metadata": {},
     "output_type": "execute_result"
    }
   ],
   "source": [
    "pd.Series(myDict)"
   ]
  },
  {
   "cell_type": "code",
   "execution_count": 6,
   "id": "70ac1583",
   "metadata": {},
   "outputs": [],
   "source": [
    "ageList = [50, 60, 55, 65]\n",
    "nameList = [\"James\", \"Lars\", \"Kirk\", \"Rob\"]"
   ]
  },
  {
   "cell_type": "code",
   "execution_count": 9,
   "id": "a0eb64f2",
   "metadata": {},
   "outputs": [
    {
     "data": {
      "text/plain": [
       "James    50\n",
       "Lars     60\n",
       "Kirk     55\n",
       "Rob      65\n",
       "dtype: int64"
      ]
     },
     "execution_count": 9,
     "metadata": {},
     "output_type": "execute_result"
    }
   ],
   "source": [
    "pd.Series(ageList, nameList)"
   ]
  },
  {
   "cell_type": "code",
   "execution_count": 10,
   "id": "8efcf780",
   "metadata": {},
   "outputs": [
    {
     "data": {
      "text/plain": [
       "James    50\n",
       "Lars     60\n",
       "Kirk     55\n",
       "Rob      65\n",
       "dtype: int64"
      ]
     },
     "execution_count": 10,
     "metadata": {},
     "output_type": "execute_result"
    }
   ],
   "source": [
    "pd.Series(data=ageList, index=nameList)"
   ]
  },
  {
   "cell_type": "code",
   "execution_count": 11,
   "id": "b238fdd4",
   "metadata": {},
   "outputs": [],
   "source": [
    "numpyArray = np.arange(0,8)"
   ]
  },
  {
   "cell_type": "code",
   "execution_count": 12,
   "id": "46c09b39",
   "metadata": {},
   "outputs": [
    {
     "data": {
      "text/plain": [
       "array([0, 1, 2, 3, 4, 5, 6, 7])"
      ]
     },
     "execution_count": 12,
     "metadata": {},
     "output_type": "execute_result"
    }
   ],
   "source": [
    "numpyArray"
   ]
  },
  {
   "cell_type": "code",
   "execution_count": 13,
   "id": "346ccd44",
   "metadata": {},
   "outputs": [
    {
     "data": {
      "text/plain": [
       "0    0\n",
       "1    1\n",
       "2    2\n",
       "3    3\n",
       "4    4\n",
       "5    5\n",
       "6    6\n",
       "7    7\n",
       "dtype: int32"
      ]
     },
     "execution_count": 13,
     "metadata": {},
     "output_type": "execute_result"
    }
   ],
   "source": [
    "pd.Series(numpyArray)"
   ]
  },
  {
   "cell_type": "code",
   "execution_count": 14,
   "id": "934714e9",
   "metadata": {},
   "outputs": [],
   "source": [
    "newNumpyArray = np.array([10,20,30,40])"
   ]
  },
  {
   "cell_type": "code",
   "execution_count": 15,
   "id": "585b641e",
   "metadata": {},
   "outputs": [
    {
     "data": {
      "text/plain": [
       "0    10\n",
       "1    20\n",
       "2    30\n",
       "3    40\n",
       "dtype: int32"
      ]
     },
     "execution_count": 15,
     "metadata": {},
     "output_type": "execute_result"
    }
   ],
   "source": [
    "pd.Series(newNumpyArray)"
   ]
  },
  {
   "cell_type": "code",
   "execution_count": 16,
   "id": "774aa48f",
   "metadata": {},
   "outputs": [
    {
     "data": {
      "text/plain": [
       "James    10\n",
       "Lars     20\n",
       "Kirk     30\n",
       "Rob      40\n",
       "dtype: int32"
      ]
     },
     "execution_count": 16,
     "metadata": {},
     "output_type": "execute_result"
    }
   ],
   "source": [
    "pd.Series(data=newNumpyArray, index=nameList) #numpy array ve list veri tiplerini verdik."
   ]
  },
  {
   "cell_type": "code",
   "execution_count": 17,
   "id": "7cbb1696",
   "metadata": {},
   "outputs": [],
   "source": [
    "mySeries = pd.Series(data=newNumpyArray, index=nameList)"
   ]
  },
  {
   "cell_type": "code",
   "execution_count": 18,
   "id": "a53534d7",
   "metadata": {},
   "outputs": [
    {
     "data": {
      "text/plain": [
       "James    10\n",
       "Lars     20\n",
       "Kirk     30\n",
       "Rob      40\n",
       "dtype: int32"
      ]
     },
     "execution_count": 18,
     "metadata": {},
     "output_type": "execute_result"
    }
   ],
   "source": [
    "mySeries"
   ]
  },
  {
   "cell_type": "code",
   "execution_count": 19,
   "id": "3f6611dd",
   "metadata": {},
   "outputs": [
    {
     "data": {
      "text/plain": [
       "pandas.core.series.Series"
      ]
     },
     "execution_count": 19,
     "metadata": {},
     "output_type": "execute_result"
    }
   ],
   "source": [
    "type(mySeries)"
   ]
  },
  {
   "cell_type": "code",
   "execution_count": 20,
   "id": "23bf7cfd",
   "metadata": {},
   "outputs": [
    {
     "data": {
      "text/plain": [
       "30"
      ]
     },
     "execution_count": 20,
     "metadata": {},
     "output_type": "execute_result"
    }
   ],
   "source": [
    "mySeries[\"Kirk\"]"
   ]
  },
  {
   "cell_type": "code",
   "execution_count": 21,
   "id": "e0730fdc",
   "metadata": {},
   "outputs": [],
   "source": [
    "mySeries[\"Kirk\"] = 60"
   ]
  },
  {
   "cell_type": "code",
   "execution_count": 22,
   "id": "1afe86ff",
   "metadata": {},
   "outputs": [
    {
     "data": {
      "text/plain": [
       "James    10\n",
       "Lars     20\n",
       "Kirk     60\n",
       "Rob      40\n",
       "dtype: int32"
      ]
     },
     "execution_count": 22,
     "metadata": {},
     "output_type": "execute_result"
    }
   ],
   "source": [
    "mySeries"
   ]
  },
  {
   "cell_type": "code",
   "execution_count": 29,
   "id": "57da43ba",
   "metadata": {},
   "outputs": [],
   "source": [
    "quizResults1 = pd.Series(data=[70,50,90], index=[\"A\", \"B\", \"C\"])"
   ]
  },
  {
   "cell_type": "code",
   "execution_count": 30,
   "id": "c26a4340",
   "metadata": {},
   "outputs": [],
   "source": [
    "quizResults2 = pd.Series(data=[100,70,60], index=[\"A\", \"B\", \"C\"])"
   ]
  },
  {
   "cell_type": "code",
   "execution_count": 31,
   "id": "6ea45a43",
   "metadata": {},
   "outputs": [
    {
     "data": {
      "text/plain": [
       "A    170\n",
       "B    120\n",
       "C    150\n",
       "dtype: int64"
      ]
     },
     "execution_count": 31,
     "metadata": {},
     "output_type": "execute_result"
    }
   ],
   "source": [
    "quizResults1 + quizResults2"
   ]
  },
  {
   "cell_type": "code",
   "execution_count": null,
   "id": "c1a6e6f2",
   "metadata": {},
   "outputs": [],
   "source": []
  }
 ],
 "metadata": {
  "kernelspec": {
   "display_name": "Python 3 (ipykernel)",
   "language": "python",
   "name": "python3"
  },
  "language_info": {
   "codemirror_mode": {
    "name": "ipython",
    "version": 3
   },
   "file_extension": ".py",
   "mimetype": "text/x-python",
   "name": "python",
   "nbconvert_exporter": "python",
   "pygments_lexer": "ipython3",
   "version": "3.11.5"
  }
 },
 "nbformat": 4,
 "nbformat_minor": 5
}
