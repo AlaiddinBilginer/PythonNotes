{
 "cells": [
  {
   "cell_type": "code",
   "execution_count": 1,
   "id": "d4d681c4",
   "metadata": {},
   "outputs": [],
   "source": [
    "# method vs function\n",
    "\n",
    "# method => Sınıfa bağlı olan fonksiyonlardır.\n",
    "# fucntion => Sınıfa bağlı olmaz."
   ]
  },
  {
   "cell_type": "code",
   "execution_count": 2,
   "id": "7afa4528",
   "metadata": {},
   "outputs": [],
   "source": [
    "name = \"alaiddin\""
   ]
  },
  {
   "cell_type": "code",
   "execution_count": 4,
   "id": "ad113c55",
   "metadata": {},
   "outputs": [
    {
     "data": {
      "text/plain": [
       "'Alaiddin'"
      ]
     },
     "execution_count": 4,
     "metadata": {},
     "output_type": "execute_result"
    }
   ],
   "source": [
    "name.capitalize()"
   ]
  },
  {
   "cell_type": "code",
   "execution_count": 5,
   "id": "42a594d8",
   "metadata": {},
   "outputs": [
    {
     "name": "stdout",
     "output_type": "stream",
     "text": [
      "Help on built-in function capitalize:\n",
      "\n",
      "capitalize() method of builtins.str instance\n",
      "    Return a capitalized version of the string.\n",
      "    \n",
      "    More specifically, make the first character have upper case and the rest lower\n",
      "    case.\n",
      "\n"
     ]
    }
   ],
   "source": [
    "help(name.capitalize)"
   ]
  },
  {
   "cell_type": "code",
   "execution_count": 6,
   "id": "9933f917",
   "metadata": {},
   "outputs": [],
   "source": [
    "# functions => Belirli bir işlemi tekrar tekrar kullanacaksak bu işlemi bir fonksiyona yazmak oldukça mantıklıdır. \n",
    "# fonksiyonları tekrar tekrar kullanabiliriz. Böylece yazdığımız kod daha esnek ve daha sade olur."
   ]
  },
  {
   "cell_type": "code",
   "execution_count": 7,
   "id": "fea5f922",
   "metadata": {},
   "outputs": [],
   "source": [
    "def helloPython():   #def => define\n",
    "    print(\"Hello\")\n",
    "    print(\"Python\")"
   ]
  },
  {
   "cell_type": "code",
   "execution_count": 8,
   "id": "a6fddee9",
   "metadata": {},
   "outputs": [
    {
     "name": "stdout",
     "output_type": "stream",
     "text": [
      "Hello\n",
      "Python\n"
     ]
    }
   ],
   "source": [
    "helloPython()"
   ]
  },
  {
   "cell_type": "code",
   "execution_count": 9,
   "id": "58425c1b",
   "metadata": {},
   "outputs": [],
   "source": [
    "# input"
   ]
  },
  {
   "cell_type": "code",
   "execution_count": 10,
   "id": "df1c7a08",
   "metadata": {},
   "outputs": [],
   "source": [
    "def helloName(name):\n",
    "    print(f\"hello {name}\")"
   ]
  },
  {
   "cell_type": "code",
   "execution_count": 11,
   "id": "b090dead",
   "metadata": {},
   "outputs": [
    {
     "name": "stdout",
     "output_type": "stream",
     "text": [
      "hello Alaiddin\n"
     ]
    }
   ],
   "source": [
    "helloName(\"Alaiddin\")"
   ]
  },
  {
   "cell_type": "code",
   "execution_count": 12,
   "id": "7e0dbaec",
   "metadata": {},
   "outputs": [],
   "source": [
    "def sumExample(num1, num2):\n",
    "    print(num1 + num2)"
   ]
  },
  {
   "cell_type": "code",
   "execution_count": 13,
   "id": "e2ad1afe",
   "metadata": {},
   "outputs": [
    {
     "name": "stdout",
     "output_type": "stream",
     "text": [
      "30\n"
     ]
    }
   ],
   "source": [
    "sumExample(10, 20)"
   ]
  },
  {
   "cell_type": "code",
   "execution_count": 14,
   "id": "a4799054",
   "metadata": {},
   "outputs": [],
   "source": [
    "def getAge(age = 0):\n",
    "    print(f\"You are {age}\")"
   ]
  },
  {
   "cell_type": "code",
   "execution_count": 16,
   "id": "c4eef790",
   "metadata": {},
   "outputs": [
    {
     "name": "stdout",
     "output_type": "stream",
     "text": [
      "You are 0\n"
     ]
    }
   ],
   "source": [
    "getAge() # parametreyi boş bıraktık ve hata almadık. Çünkü fonksiyonumuzdaki parametreye default bir değer atadık."
   ]
  },
  {
   "cell_type": "code",
   "execution_count": 17,
   "id": "b4faf8e8",
   "metadata": {},
   "outputs": [],
   "source": [
    "# return"
   ]
  },
  {
   "cell_type": "code",
   "execution_count": 18,
   "id": "42d4de01",
   "metadata": {},
   "outputs": [],
   "source": [
    "def summation(num1, num2, num3):\n",
    "    print(num1 + num2 + num3)"
   ]
  },
  {
   "cell_type": "code",
   "execution_count": 19,
   "id": "9b79492a",
   "metadata": {},
   "outputs": [
    {
     "name": "stdout",
     "output_type": "stream",
     "text": [
      "60\n"
     ]
    }
   ],
   "source": [
    "x = summation(10,20,30)"
   ]
  },
  {
   "cell_type": "code",
   "execution_count": 20,
   "id": "c008144f",
   "metadata": {},
   "outputs": [],
   "source": [
    "x"
   ]
  },
  {
   "cell_type": "code",
   "execution_count": 21,
   "id": "b65c9daa",
   "metadata": {},
   "outputs": [
    {
     "name": "stdout",
     "output_type": "stream",
     "text": [
      "None\n"
     ]
    }
   ],
   "source": [
    "print(x) # eğer fonksiyonda bir değer döndürmeyip bu fonksiyonu bir değişkene atarsak bize none çıktısını verir."
   ]
  },
  {
   "cell_type": "code",
   "execution_count": 22,
   "id": "a06ac4d2",
   "metadata": {},
   "outputs": [
    {
     "data": {
      "text/plain": [
       "NoneType"
      ]
     },
     "execution_count": 22,
     "metadata": {},
     "output_type": "execute_result"
    }
   ],
   "source": [
    "type(x)"
   ]
  },
  {
   "cell_type": "code",
   "execution_count": 52,
   "id": "5d0e24a8",
   "metadata": {},
   "outputs": [],
   "source": [
    "def returnSummation(num1, num2, num3):\n",
    "    return num1 + num2 + num3 # Buradan sonraki kod satırlarımız işleme geçmez. Fonksiyonumuzda başka kodlar eklemek istiyorsak return anahtar kelimesinden önce eklemeliyiz."
   ]
  },
  {
   "cell_type": "code",
   "execution_count": 53,
   "id": "d01fcb4a",
   "metadata": {},
   "outputs": [],
   "source": [
    "x = returnSummation(10, 20, 30)"
   ]
  },
  {
   "cell_type": "code",
   "execution_count": 25,
   "id": "1d1405a0",
   "metadata": {},
   "outputs": [
    {
     "data": {
      "text/plain": [
       "60"
      ]
     },
     "execution_count": 25,
     "metadata": {},
     "output_type": "execute_result"
    }
   ],
   "source": [
    "x"
   ]
  },
  {
   "cell_type": "code",
   "execution_count": 30,
   "id": "e15379af",
   "metadata": {},
   "outputs": [],
   "source": [
    "def controlString(name):\n",
    "    if name[0] == \"A\":\n",
    "        print(\"Evet, isminiz 'A' harfi ile başlıyor.\")\n",
    "    else:\n",
    "        print(\"İsminiz 'A' harfi ile başlamıyor.\")"
   ]
  },
  {
   "cell_type": "code",
   "execution_count": 31,
   "id": "a96f9c94",
   "metadata": {},
   "outputs": [
    {
     "name": "stdout",
     "output_type": "stream",
     "text": [
      "Evet, isminiz 'A' harfi ile başlıyor.\n"
     ]
    }
   ],
   "source": [
    "controlString(\"Alaiddin\")"
   ]
  },
  {
   "cell_type": "code",
   "execution_count": 32,
   "id": "f39072ef",
   "metadata": {},
   "outputs": [
    {
     "name": "stdout",
     "output_type": "stream",
     "text": [
      "İsminiz 'A' harfi ile başlamıyor.\n"
     ]
    }
   ],
   "source": [
    "controlString(\"Nejat\")"
   ]
  },
  {
   "cell_type": "code",
   "execution_count": 33,
   "id": "ee05abc8",
   "metadata": {},
   "outputs": [],
   "source": [
    "# args, kwargs (arguments, key word arguments)"
   ]
  },
  {
   "cell_type": "code",
   "execution_count": 38,
   "id": "ed96ac15",
   "metadata": {},
   "outputs": [],
   "source": [
    "def argsSum(*args):\n",
    "    return sum(args)"
   ]
  },
  {
   "cell_type": "code",
   "execution_count": 39,
   "id": "82406f08",
   "metadata": {},
   "outputs": [
    {
     "data": {
      "text/plain": [
       "210"
      ]
     },
     "execution_count": 39,
     "metadata": {},
     "output_type": "execute_result"
    }
   ],
   "source": [
    "argsSum(10,20,30,40,50,60)"
   ]
  },
  {
   "cell_type": "code",
   "execution_count": 40,
   "id": "c1c404d7",
   "metadata": {},
   "outputs": [],
   "source": [
    "def argsExample(*args):\n",
    "    print(args)"
   ]
  },
  {
   "cell_type": "code",
   "execution_count": 41,
   "id": "94f0f8e3",
   "metadata": {},
   "outputs": [
    {
     "name": "stdout",
     "output_type": "stream",
     "text": [
      "(1, 2, 3, 4, 5, 6)\n"
     ]
    }
   ],
   "source": [
    "argsExample(1,2,3,4,5,6) # tuple"
   ]
  },
  {
   "cell_type": "code",
   "execution_count": 42,
   "id": "0323d629",
   "metadata": {},
   "outputs": [],
   "source": [
    "def kwargsExample(**kwargs):\n",
    "    print(kwargs)"
   ]
  },
  {
   "cell_type": "code",
   "execution_count": 44,
   "id": "d2489bca",
   "metadata": {},
   "outputs": [
    {
     "name": "stdout",
     "output_type": "stream",
     "text": [
      "{'apple': 100, 'banana': 150, 'melon': 200}\n"
     ]
    }
   ],
   "source": [
    "kwargsExample(apple=100, banana=150, melon=200) #dictionary"
   ]
  },
  {
   "cell_type": "code",
   "execution_count": 49,
   "id": "2b69fb2a",
   "metadata": {},
   "outputs": [],
   "source": [
    "def kwargsExample2(**kwargs):\n",
    "    if \"apple\" in kwargs:\n",
    "        print(\"Yes\")\n",
    "    else:\n",
    "        print(\"No\")"
   ]
  },
  {
   "cell_type": "code",
   "execution_count": 48,
   "id": "2d38d83c",
   "metadata": {},
   "outputs": [
    {
     "name": "stdout",
     "output_type": "stream",
     "text": [
      "No\n"
     ]
    }
   ],
   "source": [
    "kwargsExample2(apple=100, banana=150)"
   ]
  }
 ],
 "metadata": {
  "kernelspec": {
   "display_name": "Python 3 (ipykernel)",
   "language": "python",
   "name": "python3"
  },
  "language_info": {
   "codemirror_mode": {
    "name": "ipython",
    "version": 3
   },
   "file_extension": ".py",
   "mimetype": "text/x-python",
   "name": "python",
   "nbconvert_exporter": "python",
   "pygments_lexer": "ipython3",
   "version": "3.11.5"
  }
 },
 "nbformat": 4,
 "nbformat_minor": 5
}
