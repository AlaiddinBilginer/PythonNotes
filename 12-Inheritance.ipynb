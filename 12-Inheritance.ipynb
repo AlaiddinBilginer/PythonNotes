{
 "cells": [
  {
   "cell_type": "code",
   "execution_count": 1,
   "id": "c8c4e827",
   "metadata": {},
   "outputs": [],
   "source": [
    "# Üst Sınıf(Superclass) Tanımı\n",
    "\n",
    "class Arac():\n",
    "    def __init__(self, marka, model):\n",
    "        self.marka = marka\n",
    "        self.model = model\n",
    "    \n",
    "    def bilgileriGoster(self):\n",
    "        print(f\"Marka: {self.marka}, Model: {self.model}\")"
   ]
  },
  {
   "cell_type": "code",
   "execution_count": 14,
   "id": "46dd8542",
   "metadata": {},
   "outputs": [],
   "source": [
    "# Alt Sınıf(Subclass) Tanımı, Arac sınıfından miras aldık.\n",
    "\n",
    "class Araba(Arac):\n",
    "    def __init__(self, marka, model, yakitTipi):\n",
    "        #Üst sınıfın __init__ metodunu çağırarak miras aldığımız özellikleri başlatıyoruz.\n",
    "        Arac.__init__(self, marka, model)  # super().__init__(marka, model) alternatif kullanım.\n",
    "        \n",
    "        #Alt sınıfa ait özellik\n",
    "        self.yakitTipi = yakitTipi\n",
    "    \n",
    "    # Üst sınıfın metodunu ezme(override)\n",
    "    def bilgileriGoster(self):\n",
    "        print(f\"Marka: {self.marka}, Model: {self.model}, Yakıt Tipi: {self.yakitTipi}\")\n",
    "        "
   ]
  },
  {
   "cell_type": "code",
   "execution_count": 15,
   "id": "9a1d3b55",
   "metadata": {},
   "outputs": [],
   "source": [
    "#Araba sınıfından bir nesne örneği oluşturma\n",
    "\n",
    "bmwAraba = Araba(\"BMW\", \"M3\", \"Benzin\")"
   ]
  },
  {
   "cell_type": "code",
   "execution_count": 16,
   "id": "92cdaa39",
   "metadata": {},
   "outputs": [
    {
     "data": {
      "text/plain": [
       "'BMW'"
      ]
     },
     "execution_count": 16,
     "metadata": {},
     "output_type": "execute_result"
    }
   ],
   "source": [
    "bmwAraba.marka"
   ]
  },
  {
   "cell_type": "code",
   "execution_count": 17,
   "id": "00046833",
   "metadata": {},
   "outputs": [
    {
     "data": {
      "text/plain": [
       "'M3'"
      ]
     },
     "execution_count": 17,
     "metadata": {},
     "output_type": "execute_result"
    }
   ],
   "source": [
    "bmwAraba.model"
   ]
  },
  {
   "cell_type": "code",
   "execution_count": 18,
   "id": "e3693b22",
   "metadata": {},
   "outputs": [
    {
     "name": "stdout",
     "output_type": "stream",
     "text": [
      "Marka: BMW, Model: M3, Yakıt Tipi: Benzin\n"
     ]
    }
   ],
   "source": [
    "bmwAraba.bilgileriGoster()"
   ]
  },
  {
   "cell_type": "code",
   "execution_count": null,
   "id": "f38bbd2a",
   "metadata": {},
   "outputs": [],
   "source": []
  }
 ],
 "metadata": {
  "kernelspec": {
   "display_name": "Python 3 (ipykernel)",
   "language": "python",
   "name": "python3"
  },
  "language_info": {
   "codemirror_mode": {
    "name": "ipython",
    "version": 3
   },
   "file_extension": ".py",
   "mimetype": "text/x-python",
   "name": "python",
   "nbconvert_exporter": "python",
   "pygments_lexer": "ipython3",
   "version": "3.11.5"
  }
 },
 "nbformat": 4,
 "nbformat_minor": 5
}
