{
 "cells": [
  {
   "cell_type": "code",
   "execution_count": 1,
   "id": "e5aa3e87",
   "metadata": {},
   "outputs": [],
   "source": [
    "def divideNumber(number):\n",
    "    return number / 2"
   ]
  },
  {
   "cell_type": "code",
   "execution_count": 2,
   "id": "13d8a372",
   "metadata": {},
   "outputs": [],
   "source": [
    "myList = [10,20,30,40,50,60]"
   ]
  },
  {
   "cell_type": "code",
   "execution_count": 3,
   "id": "ccdc3ef4",
   "metadata": {},
   "outputs": [],
   "source": [
    "myResultList = []\n",
    "for num in myList:\n",
    "    myResultList.append(divideNumber(num))"
   ]
  },
  {
   "cell_type": "code",
   "execution_count": 4,
   "id": "0943d133",
   "metadata": {},
   "outputs": [
    {
     "data": {
      "text/plain": [
       "[5.0, 10.0, 15.0, 20.0, 25.0, 30.0]"
      ]
     },
     "execution_count": 4,
     "metadata": {},
     "output_type": "execute_result"
    }
   ],
   "source": [
    "myResultList"
   ]
  },
  {
   "cell_type": "markdown",
   "id": "602117dc",
   "metadata": {},
   "source": [
    "# map"
   ]
  },
  {
   "cell_type": "code",
   "execution_count": 5,
   "id": "cf1d6727",
   "metadata": {},
   "outputs": [
    {
     "data": {
      "text/plain": [
       "<map at 0x1e74624beb0>"
      ]
     },
     "execution_count": 5,
     "metadata": {},
     "output_type": "execute_result"
    }
   ],
   "source": [
    "map(divideNumber, myList)"
   ]
  },
  {
   "cell_type": "code",
   "execution_count": 6,
   "id": "97c01996",
   "metadata": {},
   "outputs": [
    {
     "data": {
      "text/plain": [
       "[5.0, 10.0, 15.0, 20.0, 25.0, 30.0]"
      ]
     },
     "execution_count": 6,
     "metadata": {},
     "output_type": "execute_result"
    }
   ],
   "source": [
    "list(map(divideNumber, myList))"
   ]
  },
  {
   "cell_type": "code",
   "execution_count": 7,
   "id": "0d8bf3e0",
   "metadata": {},
   "outputs": [],
   "source": [
    "def controlString(name):\n",
    "    return \"a\" in name"
   ]
  },
  {
   "cell_type": "code",
   "execution_count": 8,
   "id": "3ca5bd0b",
   "metadata": {},
   "outputs": [
    {
     "data": {
      "text/plain": [
       "True"
      ]
     },
     "execution_count": 8,
     "metadata": {},
     "output_type": "execute_result"
    }
   ],
   "source": [
    "controlString(\"Alaiddin\")"
   ]
  },
  {
   "cell_type": "code",
   "execution_count": 9,
   "id": "eca760fb",
   "metadata": {},
   "outputs": [
    {
     "data": {
      "text/plain": [
       "False"
      ]
     },
     "execution_count": 9,
     "metadata": {},
     "output_type": "execute_result"
    }
   ],
   "source": [
    "controlString(\"Bilginer\")"
   ]
  },
  {
   "cell_type": "code",
   "execution_count": 10,
   "id": "a33efb93",
   "metadata": {},
   "outputs": [],
   "source": [
    "nameList = [\"Alaiddin\", \"Ahmet\", \"Efe\"]"
   ]
  },
  {
   "cell_type": "code",
   "execution_count": 11,
   "id": "91033987",
   "metadata": {},
   "outputs": [
    {
     "data": {
      "text/plain": [
       "[True, False, False]"
      ]
     },
     "execution_count": 11,
     "metadata": {},
     "output_type": "execute_result"
    }
   ],
   "source": [
    "list(map(controlString, nameList))"
   ]
  },
  {
   "cell_type": "markdown",
   "id": "3e53a226",
   "metadata": {},
   "source": [
    "# filter"
   ]
  },
  {
   "cell_type": "code",
   "execution_count": 13,
   "id": "6c8a915e",
   "metadata": {},
   "outputs": [
    {
     "data": {
      "text/plain": [
       "['Alaiddin']"
      ]
     },
     "execution_count": 13,
     "metadata": {},
     "output_type": "execute_result"
    }
   ],
   "source": [
    "list(filter(controlString, nameList))"
   ]
  },
  {
   "cell_type": "markdown",
   "id": "3ea3a189",
   "metadata": {},
   "source": [
    "# lambda"
   ]
  },
  {
   "cell_type": "code",
   "execution_count": 14,
   "id": "994482cd",
   "metadata": {},
   "outputs": [],
   "source": [
    "multiplyLambda = lambda num : num * 3"
   ]
  },
  {
   "cell_type": "code",
   "execution_count": 15,
   "id": "9e52bafb",
   "metadata": {},
   "outputs": [
    {
     "data": {
      "text/plain": [
       "function"
      ]
     },
     "execution_count": 15,
     "metadata": {},
     "output_type": "execute_result"
    }
   ],
   "source": [
    "type(multiplyLambda)"
   ]
  },
  {
   "cell_type": "code",
   "execution_count": 16,
   "id": "3d5d480c",
   "metadata": {},
   "outputs": [
    {
     "data": {
      "text/plain": [
       "60"
      ]
     },
     "execution_count": 16,
     "metadata": {},
     "output_type": "execute_result"
    }
   ],
   "source": [
    "multiplyLambda(20)"
   ]
  },
  {
   "cell_type": "code",
   "execution_count": 17,
   "id": "9824e704",
   "metadata": {},
   "outputs": [],
   "source": [
    "result = multiplyLambda(5)"
   ]
  },
  {
   "cell_type": "code",
   "execution_count": 18,
   "id": "c3f69bc5",
   "metadata": {},
   "outputs": [
    {
     "data": {
      "text/plain": [
       "15"
      ]
     },
     "execution_count": 18,
     "metadata": {},
     "output_type": "execute_result"
    }
   ],
   "source": [
    "result"
   ]
  },
  {
   "cell_type": "code",
   "execution_count": 19,
   "id": "bd0a9171",
   "metadata": {},
   "outputs": [],
   "source": [
    "numList = [10,20,30,40, 50]"
   ]
  },
  {
   "cell_type": "code",
   "execution_count": 20,
   "id": "2384c216",
   "metadata": {},
   "outputs": [
    {
     "data": {
      "text/plain": [
       "[2.5, 5.0, 7.5, 10.0, 12.5]"
      ]
     },
     "execution_count": 20,
     "metadata": {},
     "output_type": "execute_result"
    }
   ],
   "source": [
    "list(map(lambda num : num / 4, numList))"
   ]
  },
  {
   "cell_type": "markdown",
   "id": "4d4673b3",
   "metadata": {},
   "source": [
    "# scope"
   ]
  },
  {
   "cell_type": "code",
   "execution_count": 25,
   "id": "574b02d1",
   "metadata": {},
   "outputs": [],
   "source": [
    "x = 20\n",
    "\n",
    "def multiply(num):\n",
    "    x = 5   # x burada tanımlı olmasaydı x değeri 20 olurdu.\n",
    "    return num * x"
   ]
  },
  {
   "cell_type": "code",
   "execution_count": 26,
   "id": "6fb83433",
   "metadata": {},
   "outputs": [
    {
     "data": {
      "text/plain": [
       "50"
      ]
     },
     "execution_count": 26,
     "metadata": {},
     "output_type": "execute_result"
    }
   ],
   "source": [
    "multiply(10)"
   ]
  },
  {
   "cell_type": "code",
   "execution_count": 27,
   "id": "540a9df6",
   "metadata": {},
   "outputs": [
    {
     "data": {
      "text/plain": [
       "20"
      ]
     },
     "execution_count": 27,
     "metadata": {},
     "output_type": "execute_result"
    }
   ],
   "source": [
    "x # Aslında fonksiyonun içindeki x ile Global alanda tanımlanan x değişkenleri farklıdır."
   ]
  },
  {
   "cell_type": "markdown",
   "id": "f3cf8f9c",
   "metadata": {},
   "source": [
    "# LEGB => L -> Local, E -> Enclosing, G -> Global, B -> Built-in"
   ]
  },
  {
   "cell_type": "code",
   "execution_count": 31,
   "id": "b9accfff",
   "metadata": {},
   "outputs": [],
   "source": [
    "#Global\n",
    "myString = \"Alaiddin\"\n",
    "\n",
    "def myFunction():\n",
    "    #Enclosing\n",
    "    myString = \"Ahmet\"\n",
    "    \n",
    "    def myFunction2():\n",
    "        #Local\n",
    "        myString = \"Ali\"\n",
    "        print(myString)\n",
    "    \n",
    "    myFunction2()"
   ]
  },
  {
   "cell_type": "code",
   "execution_count": 29,
   "id": "443e816c",
   "metadata": {},
   "outputs": [
    {
     "data": {
      "text/plain": [
       "'Alaiddin'"
      ]
     },
     "execution_count": 29,
     "metadata": {},
     "output_type": "execute_result"
    }
   ],
   "source": [
    "myString"
   ]
  },
  {
   "cell_type": "code",
   "execution_count": 30,
   "id": "36469212",
   "metadata": {},
   "outputs": [
    {
     "name": "stdout",
     "output_type": "stream",
     "text": [
      "Ali\n"
     ]
    }
   ],
   "source": [
    "myFunction()"
   ]
  },
  {
   "cell_type": "code",
   "execution_count": 32,
   "id": "65136860",
   "metadata": {},
   "outputs": [],
   "source": [
    "y = 10\n",
    "\n",
    "def changeY():\n",
    "    global y \n",
    "    y = 5"
   ]
  },
  {
   "cell_type": "code",
   "execution_count": 33,
   "id": "296df59b",
   "metadata": {},
   "outputs": [],
   "source": [
    "changeY()"
   ]
  },
  {
   "cell_type": "code",
   "execution_count": 34,
   "id": "d37ca385",
   "metadata": {},
   "outputs": [
    {
     "data": {
      "text/plain": [
       "5"
      ]
     },
     "execution_count": 34,
     "metadata": {},
     "output_type": "execute_result"
    }
   ],
   "source": [
    "y"
   ]
  },
  {
   "cell_type": "code",
   "execution_count": null,
   "id": "34ff9ddc",
   "metadata": {},
   "outputs": [],
   "source": []
  }
 ],
 "metadata": {
  "kernelspec": {
   "display_name": "Python 3 (ipykernel)",
   "language": "python",
   "name": "python3"
  },
  "language_info": {
   "codemirror_mode": {
    "name": "ipython",
    "version": 3
   },
   "file_extension": ".py",
   "mimetype": "text/x-python",
   "name": "python",
   "nbconvert_exporter": "python",
   "pygments_lexer": "ipython3",
   "version": "3.11.5"
  }
 },
 "nbformat": 4,
 "nbformat_minor": 5
}
