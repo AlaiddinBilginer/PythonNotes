{
 "cells": [
  {
   "cell_type": "code",
   "execution_count": 1,
   "id": "9c1486ba",
   "metadata": {},
   "outputs": [],
   "source": [
    "# for loop, while loop"
   ]
  },
  {
   "cell_type": "code",
   "execution_count": 2,
   "id": "0d5284aa",
   "metadata": {},
   "outputs": [],
   "source": [
    "myList = [10,20,30,40,50,60,70,80]"
   ]
  },
  {
   "cell_type": "code",
   "execution_count": 3,
   "id": "99e71128",
   "metadata": {},
   "outputs": [
    {
     "name": "stdout",
     "output_type": "stream",
     "text": [
      "10\n",
      "20\n",
      "30\n",
      "40\n",
      "50\n",
      "60\n",
      "70\n",
      "80\n"
     ]
    }
   ],
   "source": [
    "for number in myList:\n",
    "    print(number)"
   ]
  },
  {
   "cell_type": "code",
   "execution_count": 4,
   "id": "1d352be1",
   "metadata": {},
   "outputs": [
    {
     "name": "stdout",
     "output_type": "stream",
     "text": [
      "30\n",
      "60\n"
     ]
    }
   ],
   "source": [
    "for num in myList:\n",
    "    if num % 6 == 0:\n",
    "        print(num)"
   ]
  },
  {
   "cell_type": "code",
   "execution_count": 5,
   "id": "c1b3fd6a",
   "metadata": {},
   "outputs": [],
   "source": [
    "name = \"Alaiddin Bilginer\""
   ]
  },
  {
   "cell_type": "code",
   "execution_count": 6,
   "id": "a4403a4f",
   "metadata": {},
   "outputs": [
    {
     "name": "stdout",
     "output_type": "stream",
     "text": [
      "A\n",
      "l\n",
      "a\n",
      "i\n",
      "d\n",
      "d\n",
      "i\n",
      "n\n",
      " \n",
      "B\n",
      "i\n",
      "l\n",
      "g\n",
      "i\n",
      "n\n",
      "e\n",
      "r\n"
     ]
    }
   ],
   "source": [
    "for character in name:\n",
    "    print(character)"
   ]
  },
  {
   "cell_type": "code",
   "execution_count": 31,
   "id": "9c2e4c79",
   "metadata": {},
   "outputs": [
    {
     "name": "stdout",
     "output_type": "stream",
     "text": [
      "100\n",
      "200\n",
      "300\n",
      "400\n",
      "500\n",
      "100\n",
      "200\n"
     ]
    }
   ],
   "source": [
    "myTuple = (10,20,30,40,50,10,20)\n",
    "\n",
    "for num in myTuple:\n",
    "    print(num * 10)"
   ]
  },
  {
   "cell_type": "code",
   "execution_count": 14,
   "id": "ef307dcf",
   "metadata": {},
   "outputs": [],
   "source": [
    "newList = [(\"a\", \"b\", 1), (\"c\", \"d\", 2), (\"e\",\"f\", 3), (\"g\", \"h\", 4)]"
   ]
  },
  {
   "cell_type": "code",
   "execution_count": 15,
   "id": "ee1dc20b",
   "metadata": {},
   "outputs": [
    {
     "name": "stdout",
     "output_type": "stream",
     "text": [
      "('a', 'b', 1)\n",
      "('c', 'd', 2)\n",
      "('e', 'f', 3)\n",
      "('g', 'h', 4)\n"
     ]
    }
   ],
   "source": [
    "for element in newList:\n",
    "    print(element)"
   ]
  },
  {
   "cell_type": "code",
   "execution_count": 10,
   "id": "8b5496b9",
   "metadata": {},
   "outputs": [],
   "source": [
    "# tuple unpacking"
   ]
  },
  {
   "cell_type": "code",
   "execution_count": 11,
   "id": "e9cc84b4",
   "metadata": {},
   "outputs": [
    {
     "data": {
      "text/plain": [
       "'c'"
      ]
     },
     "execution_count": 11,
     "metadata": {},
     "output_type": "execute_result"
    }
   ],
   "source": [
    "newList[1][0]"
   ]
  },
  {
   "cell_type": "code",
   "execution_count": 16,
   "id": "6b412d58",
   "metadata": {},
   "outputs": [
    {
     "name": "stdout",
     "output_type": "stream",
     "text": [
      "1\n",
      "2\n",
      "3\n",
      "4\n"
     ]
    }
   ],
   "source": [
    "for (x,y,z) in newList:\n",
    "    print(z)"
   ]
  },
  {
   "cell_type": "code",
   "execution_count": 17,
   "id": "0bafd830",
   "metadata": {},
   "outputs": [],
   "source": [
    "mySet = {1,2,3,4,5}"
   ]
  },
  {
   "cell_type": "code",
   "execution_count": 18,
   "id": "247fa947",
   "metadata": {},
   "outputs": [
    {
     "name": "stdout",
     "output_type": "stream",
     "text": [
      "1\n",
      "2\n",
      "3\n",
      "4\n",
      "5\n"
     ]
    }
   ],
   "source": [
    "for item in mySet:\n",
    "    print(item)"
   ]
  },
  {
   "cell_type": "code",
   "execution_count": 19,
   "id": "ed62f55b",
   "metadata": {},
   "outputs": [],
   "source": [
    "myDictionary = {\"k1\": 100, \"k2\": 200, \"k3\": 300}"
   ]
  },
  {
   "cell_type": "code",
   "execution_count": 20,
   "id": "7c9d115f",
   "metadata": {},
   "outputs": [
    {
     "name": "stdout",
     "output_type": "stream",
     "text": [
      "k1\n",
      "k2\n",
      "k3\n"
     ]
    }
   ],
   "source": [
    "for element in myDictionary:\n",
    "    print(element)"
   ]
  },
  {
   "cell_type": "code",
   "execution_count": 23,
   "id": "53774e1d",
   "metadata": {},
   "outputs": [
    {
     "name": "stdout",
     "output_type": "stream",
     "text": [
      "('k1', 100)\n",
      "('k2', 200)\n",
      "('k3', 300)\n"
     ]
    }
   ],
   "source": [
    "for element in myDictionary.items():\n",
    "    print(element)"
   ]
  },
  {
   "cell_type": "code",
   "execution_count": 24,
   "id": "afe20454",
   "metadata": {},
   "outputs": [
    {
     "name": "stdout",
     "output_type": "stream",
     "text": [
      "100\n",
      "200\n",
      "300\n"
     ]
    }
   ],
   "source": [
    "for element in myDictionary.values():\n",
    "    print(element)"
   ]
  },
  {
   "cell_type": "code",
   "execution_count": 28,
   "id": "c827a5a8",
   "metadata": {},
   "outputs": [
    {
     "name": "stdout",
     "output_type": "stream",
     "text": [
      "k1 = 100\n",
      "k2 = 200\n",
      "k3 = 300\n"
     ]
    }
   ],
   "source": [
    "for (key, value) in myDictionary.items():\n",
    "    print(key + \" = \" + str(value))"
   ]
  },
  {
   "cell_type": "code",
   "execution_count": 32,
   "id": "db640a1d",
   "metadata": {},
   "outputs": [],
   "source": [
    "myList = [10,20,30,40,50,60,70,80]"
   ]
  },
  {
   "cell_type": "code",
   "execution_count": 33,
   "id": "ae0a68d9",
   "metadata": {},
   "outputs": [
    {
     "name": "stdout",
     "output_type": "stream",
     "text": [
      "10\n",
      "20\n",
      "30\n",
      "40\n",
      "yes\n"
     ]
    }
   ],
   "source": [
    "for num in myList:\n",
    "    print(num)\n",
    "    if num == 40:\n",
    "        print(\"yes\")\n",
    "        break"
   ]
  },
  {
   "cell_type": "code",
   "execution_count": 35,
   "id": "a656a121",
   "metadata": {},
   "outputs": [
    {
     "name": "stdout",
     "output_type": "stream",
     "text": [
      "10\n",
      "20\n",
      "40\n",
      "50\n",
      "60\n",
      "70\n",
      "80\n"
     ]
    }
   ],
   "source": [
    "for num in myList:\n",
    "    if num == 30:\n",
    "        continue\n",
    "    print(num)"
   ]
  },
  {
   "cell_type": "code",
   "execution_count": 36,
   "id": "4e57deb9",
   "metadata": {},
   "outputs": [],
   "source": [
    "for num in myList: # pass anahtar kelimesini kodu geliştirirken kullanabiliriz. \n",
    "    pass           # burada pass yazmasaydık döngümüzün kod bloğu boş olduğu için hata verirdi."
   ]
  },
  {
   "cell_type": "code",
   "execution_count": 37,
   "id": "3d2e1f8d",
   "metadata": {},
   "outputs": [],
   "source": [
    "# while"
   ]
  },
  {
   "cell_type": "code",
   "execution_count": 39,
   "id": "12d87df8",
   "metadata": {},
   "outputs": [
    {
     "name": "stdout",
     "output_type": "stream",
     "text": [
      "while loop started\n",
      "0\n",
      "1\n",
      "2\n",
      "3\n",
      "4\n",
      "5\n",
      "6\n",
      "7\n",
      "8\n",
      "9\n",
      "while loop ended\n"
     ]
    }
   ],
   "source": [
    "x = 0\n",
    "\n",
    "print(\"while loop started\")\n",
    "while x < 10:\n",
    "    print(x)\n",
    "    x = x + 1\n",
    "print(\"while loop ended\")"
   ]
  },
  {
   "cell_type": "code",
   "execution_count": 40,
   "id": "a2737fc3",
   "metadata": {},
   "outputs": [
    {
     "name": "stdout",
     "output_type": "stream",
     "text": [
      "20 in myList\n",
      "20 in myList\n",
      "20 in myList\n",
      "20 in myList\n"
     ]
    }
   ],
   "source": [
    "myList = [10,20,30,40,50]\n",
    "\n",
    "while 20 in myList:\n",
    "    print(\"20 in myList\")\n",
    "    myList.pop()"
   ]
  },
  {
   "cell_type": "code",
   "execution_count": null,
   "id": "ec09cea8",
   "metadata": {},
   "outputs": [],
   "source": [
    "p = 1\n",
    "while p < 20:\n",
    "    print(f\"value of p: {p}\") # formatted string\n",
    "    p = p + 1"
   ]
  }
 ],
 "metadata": {
  "kernelspec": {
   "display_name": "Python 3 (ipykernel)",
   "language": "python",
   "name": "python3"
  },
  "language_info": {
   "codemirror_mode": {
    "name": "ipython",
    "version": 3
   },
   "file_extension": ".py",
   "mimetype": "text/x-python",
   "name": "python",
   "nbconvert_exporter": "python",
   "pygments_lexer": "ipython3",
   "version": "3.11.5"
  }
 },
 "nbformat": 4,
 "nbformat_minor": 5
}
